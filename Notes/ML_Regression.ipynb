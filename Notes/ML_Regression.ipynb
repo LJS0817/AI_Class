{
 "cells": [
  {
   "cell_type": "markdown",
   "id": "7255dc93-f192-4965-b7a4-bb44de9ddbfc",
   "metadata": {},
   "source": [
    "---\n",
    "# 머신러닝 회귀 ( Regression )\n",
    "회귀는 연속적인 값을 예측\n",
    "\n",
    "- LinearRegression\n",
    "- DecisionTreeRegressor\n",
    "- RandomForestRegressor\n",
    "- SVR\n",
    "\n",
    "평가에는 MSE ( Mean Squared Error ) 를 사용"
   ]
  },
  {
   "cell_type": "code",
   "execution_count": null,
   "id": "9ef623b9-130b-4899-8fc0-453fc40bc974",
   "metadata": {},
   "outputs": [],
   "source": []
  },
  {
   "cell_type": "code",
   "execution_count": null,
   "id": "9a0da029-1210-4e40-a274-675e836419b5",
   "metadata": {},
   "outputs": [],
   "source": [
    "from sklearn.tree import DecisionTreeRegressor\n",
    "from sklearn.linear_model import LinearRegression\n",
    "from sklearn.ensemble import RandomForestRegressor\n",
    "from sklearn.metrics import mean_squared_error\n",
    "from sklearn.svm import SVR"
   ]
  }
 ],
 "metadata": {
  "kernelspec": {
   "display_name": "Python [conda env:base] *",
   "language": "python",
   "name": "conda-base-py"
  },
  "language_info": {
   "codemirror_mode": {
    "name": "ipython",
    "version": 3
   },
   "file_extension": ".py",
   "mimetype": "text/x-python",
   "name": "python",
   "nbconvert_exporter": "python",
   "pygments_lexer": "ipython3",
   "version": "3.12.7"
  }
 },
 "nbformat": 4,
 "nbformat_minor": 5
}
