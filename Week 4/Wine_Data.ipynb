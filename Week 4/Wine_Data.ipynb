{
 "cells": [
  {
   "cell_type": "markdown",
   "id": "bbe06ee1-e730-405c-9c84-6735bc5c5a92",
   "metadata": {},
   "source": [
    "# CSV 데이터 불러오기"
   ]
  },
  {
   "cell_type": "code",
   "execution_count": 13,
   "id": "baa4b8be-d83b-4548-afa4-48ddc32477f0",
   "metadata": {},
   "outputs": [
    {
     "data": {
      "text/html": [
       "<div>\n",
       "<style scoped>\n",
       "    .dataframe tbody tr th:only-of-type {\n",
       "        vertical-align: middle;\n",
       "    }\n",
       "\n",
       "    .dataframe tbody tr th {\n",
       "        vertical-align: top;\n",
       "    }\n",
       "\n",
       "    .dataframe thead th {\n",
       "        text-align: right;\n",
       "    }\n",
       "</style>\n",
       "<table border=\"1\" class=\"dataframe\">\n",
       "  <thead>\n",
       "    <tr style=\"text-align: right;\">\n",
       "      <th></th>\n",
       "      <th>Wine</th>\n",
       "      <th>Alcohol</th>\n",
       "      <th>Malic.acid</th>\n",
       "      <th>Ash</th>\n",
       "      <th>Acl</th>\n",
       "      <th>Mg</th>\n",
       "      <th>Phenols</th>\n",
       "      <th>Flavanoids</th>\n",
       "      <th>Nonflavanoid.phenols</th>\n",
       "      <th>Proanth</th>\n",
       "      <th>Color.int</th>\n",
       "      <th>Hue</th>\n",
       "      <th>OD</th>\n",
       "      <th>Proline</th>\n",
       "    </tr>\n",
       "  </thead>\n",
       "  <tbody>\n",
       "    <tr>\n",
       "      <th>0</th>\n",
       "      <td>1</td>\n",
       "      <td>14.23</td>\n",
       "      <td>1.71</td>\n",
       "      <td>2.43</td>\n",
       "      <td>15.6</td>\n",
       "      <td>127</td>\n",
       "      <td>2.80</td>\n",
       "      <td>3.06</td>\n",
       "      <td>0.28</td>\n",
       "      <td>2.29</td>\n",
       "      <td>5.64</td>\n",
       "      <td>1.04</td>\n",
       "      <td>3.92</td>\n",
       "      <td>1065</td>\n",
       "    </tr>\n",
       "    <tr>\n",
       "      <th>1</th>\n",
       "      <td>1</td>\n",
       "      <td>13.20</td>\n",
       "      <td>1.78</td>\n",
       "      <td>2.14</td>\n",
       "      <td>11.2</td>\n",
       "      <td>100</td>\n",
       "      <td>2.65</td>\n",
       "      <td>2.76</td>\n",
       "      <td>0.26</td>\n",
       "      <td>1.28</td>\n",
       "      <td>4.38</td>\n",
       "      <td>1.05</td>\n",
       "      <td>3.40</td>\n",
       "      <td>1050</td>\n",
       "    </tr>\n",
       "    <tr>\n",
       "      <th>2</th>\n",
       "      <td>1</td>\n",
       "      <td>13.16</td>\n",
       "      <td>2.36</td>\n",
       "      <td>2.67</td>\n",
       "      <td>18.6</td>\n",
       "      <td>101</td>\n",
       "      <td>2.80</td>\n",
       "      <td>3.24</td>\n",
       "      <td>0.30</td>\n",
       "      <td>2.81</td>\n",
       "      <td>5.68</td>\n",
       "      <td>1.03</td>\n",
       "      <td>3.17</td>\n",
       "      <td>1185</td>\n",
       "    </tr>\n",
       "    <tr>\n",
       "      <th>3</th>\n",
       "      <td>1</td>\n",
       "      <td>14.37</td>\n",
       "      <td>1.95</td>\n",
       "      <td>2.50</td>\n",
       "      <td>16.8</td>\n",
       "      <td>113</td>\n",
       "      <td>3.85</td>\n",
       "      <td>3.49</td>\n",
       "      <td>0.24</td>\n",
       "      <td>2.18</td>\n",
       "      <td>7.80</td>\n",
       "      <td>0.86</td>\n",
       "      <td>3.45</td>\n",
       "      <td>1480</td>\n",
       "    </tr>\n",
       "    <tr>\n",
       "      <th>4</th>\n",
       "      <td>1</td>\n",
       "      <td>13.24</td>\n",
       "      <td>2.59</td>\n",
       "      <td>2.87</td>\n",
       "      <td>21.0</td>\n",
       "      <td>118</td>\n",
       "      <td>2.80</td>\n",
       "      <td>2.69</td>\n",
       "      <td>0.39</td>\n",
       "      <td>1.82</td>\n",
       "      <td>4.32</td>\n",
       "      <td>1.04</td>\n",
       "      <td>2.93</td>\n",
       "      <td>735</td>\n",
       "    </tr>\n",
       "    <tr>\n",
       "      <th>...</th>\n",
       "      <td>...</td>\n",
       "      <td>...</td>\n",
       "      <td>...</td>\n",
       "      <td>...</td>\n",
       "      <td>...</td>\n",
       "      <td>...</td>\n",
       "      <td>...</td>\n",
       "      <td>...</td>\n",
       "      <td>...</td>\n",
       "      <td>...</td>\n",
       "      <td>...</td>\n",
       "      <td>...</td>\n",
       "      <td>...</td>\n",
       "      <td>...</td>\n",
       "    </tr>\n",
       "    <tr>\n",
       "      <th>173</th>\n",
       "      <td>3</td>\n",
       "      <td>13.71</td>\n",
       "      <td>5.65</td>\n",
       "      <td>2.45</td>\n",
       "      <td>20.5</td>\n",
       "      <td>95</td>\n",
       "      <td>1.68</td>\n",
       "      <td>0.61</td>\n",
       "      <td>0.52</td>\n",
       "      <td>1.06</td>\n",
       "      <td>7.70</td>\n",
       "      <td>0.64</td>\n",
       "      <td>1.74</td>\n",
       "      <td>740</td>\n",
       "    </tr>\n",
       "    <tr>\n",
       "      <th>174</th>\n",
       "      <td>3</td>\n",
       "      <td>13.40</td>\n",
       "      <td>3.91</td>\n",
       "      <td>2.48</td>\n",
       "      <td>23.0</td>\n",
       "      <td>102</td>\n",
       "      <td>1.80</td>\n",
       "      <td>0.75</td>\n",
       "      <td>0.43</td>\n",
       "      <td>1.41</td>\n",
       "      <td>7.30</td>\n",
       "      <td>0.70</td>\n",
       "      <td>1.56</td>\n",
       "      <td>750</td>\n",
       "    </tr>\n",
       "    <tr>\n",
       "      <th>175</th>\n",
       "      <td>3</td>\n",
       "      <td>13.27</td>\n",
       "      <td>4.28</td>\n",
       "      <td>2.26</td>\n",
       "      <td>20.0</td>\n",
       "      <td>120</td>\n",
       "      <td>1.59</td>\n",
       "      <td>0.69</td>\n",
       "      <td>0.43</td>\n",
       "      <td>1.35</td>\n",
       "      <td>10.20</td>\n",
       "      <td>0.59</td>\n",
       "      <td>1.56</td>\n",
       "      <td>835</td>\n",
       "    </tr>\n",
       "    <tr>\n",
       "      <th>176</th>\n",
       "      <td>3</td>\n",
       "      <td>13.17</td>\n",
       "      <td>2.59</td>\n",
       "      <td>2.37</td>\n",
       "      <td>20.0</td>\n",
       "      <td>120</td>\n",
       "      <td>1.65</td>\n",
       "      <td>0.68</td>\n",
       "      <td>0.53</td>\n",
       "      <td>1.46</td>\n",
       "      <td>9.30</td>\n",
       "      <td>0.60</td>\n",
       "      <td>1.62</td>\n",
       "      <td>840</td>\n",
       "    </tr>\n",
       "    <tr>\n",
       "      <th>177</th>\n",
       "      <td>3</td>\n",
       "      <td>14.13</td>\n",
       "      <td>4.10</td>\n",
       "      <td>2.74</td>\n",
       "      <td>24.5</td>\n",
       "      <td>96</td>\n",
       "      <td>2.05</td>\n",
       "      <td>0.76</td>\n",
       "      <td>0.56</td>\n",
       "      <td>1.35</td>\n",
       "      <td>9.20</td>\n",
       "      <td>0.61</td>\n",
       "      <td>1.60</td>\n",
       "      <td>560</td>\n",
       "    </tr>\n",
       "  </tbody>\n",
       "</table>\n",
       "<p>178 rows × 14 columns</p>\n",
       "</div>"
      ],
      "text/plain": [
       "     Wine  Alcohol  Malic.acid   Ash   Acl   Mg  Phenols  Flavanoids  \\\n",
       "0       1    14.23        1.71  2.43  15.6  127     2.80        3.06   \n",
       "1       1    13.20        1.78  2.14  11.2  100     2.65        2.76   \n",
       "2       1    13.16        2.36  2.67  18.6  101     2.80        3.24   \n",
       "3       1    14.37        1.95  2.50  16.8  113     3.85        3.49   \n",
       "4       1    13.24        2.59  2.87  21.0  118     2.80        2.69   \n",
       "..    ...      ...         ...   ...   ...  ...      ...         ...   \n",
       "173     3    13.71        5.65  2.45  20.5   95     1.68        0.61   \n",
       "174     3    13.40        3.91  2.48  23.0  102     1.80        0.75   \n",
       "175     3    13.27        4.28  2.26  20.0  120     1.59        0.69   \n",
       "176     3    13.17        2.59  2.37  20.0  120     1.65        0.68   \n",
       "177     3    14.13        4.10  2.74  24.5   96     2.05        0.76   \n",
       "\n",
       "     Nonflavanoid.phenols  Proanth  Color.int   Hue    OD  Proline  \n",
       "0                    0.28     2.29       5.64  1.04  3.92     1065  \n",
       "1                    0.26     1.28       4.38  1.05  3.40     1050  \n",
       "2                    0.30     2.81       5.68  1.03  3.17     1185  \n",
       "3                    0.24     2.18       7.80  0.86  3.45     1480  \n",
       "4                    0.39     1.82       4.32  1.04  2.93      735  \n",
       "..                    ...      ...        ...   ...   ...      ...  \n",
       "173                  0.52     1.06       7.70  0.64  1.74      740  \n",
       "174                  0.43     1.41       7.30  0.70  1.56      750  \n",
       "175                  0.43     1.35      10.20  0.59  1.56      835  \n",
       "176                  0.53     1.46       9.30  0.60  1.62      840  \n",
       "177                  0.56     1.35       9.20  0.61  1.60      560  \n",
       "\n",
       "[178 rows x 14 columns]"
      ]
     },
     "execution_count": 13,
     "metadata": {},
     "output_type": "execute_result"
    }
   ],
   "source": [
    "import pandas as pd\n",
    "\n",
    "df = pd.read_csv('C:/Users/admin/Desktop/Homework/AI/AI_Class/Data/wine.csv')\n",
    "df"
   ]
  },
  {
   "cell_type": "markdown",
   "id": "495a4825-6aaa-4cb1-962f-5118fc23375d",
   "metadata": {},
   "source": [
    "---\n",
    "# 데이터 확인\n",
    "\n",
    "Columns\n",
    "- Wine == 와인 종류 =>  Y\n",
    "- Alcohol == 알코올 농도\n",
    "- Malic_acid == 말산 농도\n",
    "- Ash == 회분\n",
    "- Aci == 회분이 산을 중화하는 정도\n",
    "- Mg == 마그네슘 함량\n",
    "- Phenols == 페놀 화합물 총 함량\n",
    "- Flavanoids == 플라보노이드 함량\n",
    "- Nonflavanoid_phenols == 비폴라보노이드 함량\n",
    "- Proanth == 프로안토시아닌 함량 ( 플라보노이드 일종 )\n",
    "- Color_int == 색상 진하기 정도\n",
    "- Hue == 스펙트럼 상의 색 위치\n",
    "- OD == 희석된 와인의 흡광도 비율\n",
    "- Proline == 프롤린 함량"
   ]
  },
  {
   "cell_type": "code",
   "execution_count": 25,
   "id": "5d45f2e6-cee1-4de1-99f8-ec7aff71869e",
   "metadata": {},
   "outputs": [
    {
     "data": {
      "text/plain": [
       "Index(['Wine', 'Alcohol', 'Malic.acid', 'Ash', 'Acl', 'Mg', 'Phenols',\n",
       "       'Flavanoids', 'Nonflavanoid.phenols', 'Proanth', 'Color.int', 'Hue',\n",
       "       'OD', 'Proline'],\n",
       "      dtype='object')"
      ]
     },
     "execution_count": 25,
     "metadata": {},
     "output_type": "execute_result"
    }
   ],
   "source": [
    "df.columns"
   ]
  },
  {
   "cell_type": "code",
   "execution_count": 31,
   "id": "22a9713d-403d-4fa1-b6f3-683f6ca0e2e0",
   "metadata": {},
   "outputs": [
    {
     "data": {
      "text/plain": [
       "Wine                    0\n",
       "Alcohol                 0\n",
       "Malic.acid              0\n",
       "Ash                     0\n",
       "Acl                     0\n",
       "Mg                      0\n",
       "Phenols                 0\n",
       "Flavanoids              0\n",
       "Nonflavanoid.phenols    0\n",
       "Proanth                 0\n",
       "Color.int               0\n",
       "Hue                     0\n",
       "OD                      0\n",
       "Proline                 0\n",
       "dtype: int64"
      ]
     },
     "execution_count": 31,
     "metadata": {},
     "output_type": "execute_result"
    }
   ],
   "source": [
    "df.isnull().sum()"
   ]
  },
  {
   "cell_type": "code",
   "execution_count": 13,
   "id": "df6c8f6b-76c1-44a2-831d-cf32495d98cc",
   "metadata": {},
   "outputs": [
    {
     "data": {
      "text/plain": [
       "Wine\n",
       "2    71\n",
       "1    59\n",
       "3    48\n",
       "Name: count, dtype: int64"
      ]
     },
     "execution_count": 13,
     "metadata": {},
     "output_type": "execute_result"
    }
   ],
   "source": [
    "df['Wine'].value_counts()"
   ]
  },
  {
   "cell_type": "markdown",
   "id": "4c8606da-0d49-46c2-b9f8-e734a292db98",
   "metadata": {},
   "source": [
    "---\n",
    "# 데이터 전처리"
   ]
  },
  {
   "cell_type": "code",
   "execution_count": 15,
   "id": "d867cf9c-5728-45b5-88cb-dc0cad134027",
   "metadata": {},
   "outputs": [
    {
     "data": {
      "text/plain": [
       "(array([[1.423e+01, 1.710e+00, 2.430e+00, ..., 1.040e+00, 3.920e+00,\n",
       "         1.065e+03],\n",
       "        [1.320e+01, 1.780e+00, 2.140e+00, ..., 1.050e+00, 3.400e+00,\n",
       "         1.050e+03],\n",
       "        [1.316e+01, 2.360e+00, 2.670e+00, ..., 1.030e+00, 3.170e+00,\n",
       "         1.185e+03],\n",
       "        ...,\n",
       "        [1.327e+01, 4.280e+00, 2.260e+00, ..., 5.900e-01, 1.560e+00,\n",
       "         8.350e+02],\n",
       "        [1.317e+01, 2.590e+00, 2.370e+00, ..., 6.000e-01, 1.620e+00,\n",
       "         8.400e+02],\n",
       "        [1.413e+01, 4.100e+00, 2.740e+00, ..., 6.100e-01, 1.600e+00,\n",
       "         5.600e+02]]),\n",
       " array([1, 1, 1, 1, 1, 1, 1, 1, 1, 1, 1, 1, 1, 1, 1, 1, 1, 1, 1, 1, 1, 1,\n",
       "        1, 1, 1, 1, 1, 1, 1, 1, 1, 1, 1, 1, 1, 1, 1, 1, 1, 1, 1, 1, 1, 1,\n",
       "        1, 1, 1, 1, 1, 1, 1, 1, 1, 1, 1, 1, 1, 1, 1, 2, 2, 2, 2, 2, 2, 2,\n",
       "        2, 2, 2, 2, 2, 2, 2, 2, 2, 2, 2, 2, 2, 2, 2, 2, 2, 2, 2, 2, 2, 2,\n",
       "        2, 2, 2, 2, 2, 2, 2, 2, 2, 2, 2, 2, 2, 2, 2, 2, 2, 2, 2, 2, 2, 2,\n",
       "        2, 2, 2, 2, 2, 2, 2, 2, 2, 2, 2, 2, 2, 2, 2, 2, 2, 2, 2, 2, 3, 3,\n",
       "        3, 3, 3, 3, 3, 3, 3, 3, 3, 3, 3, 3, 3, 3, 3, 3, 3, 3, 3, 3, 3, 3,\n",
       "        3, 3, 3, 3, 3, 3, 3, 3, 3, 3, 3, 3, 3, 3, 3, 3, 3, 3, 3, 3, 3, 3,\n",
       "        3, 3], dtype=int64))"
      ]
     },
     "execution_count": 15,
     "metadata": {},
     "output_type": "execute_result"
    }
   ],
   "source": [
    "X = df.drop('Wine', axis=1).values\n",
    "Y = df['Wine'].values\n",
    "\n",
    "X, Y"
   ]
  },
  {
   "cell_type": "markdown",
   "id": "7313d9b6-7369-4860-90ef-7056d83cdc60",
   "metadata": {},
   "source": [
    "데이터가 모두 숫자이므로 변환하지 않음"
   ]
  },
  {
   "cell_type": "code",
   "execution_count": 54,
   "id": "8f5a5026-b493-49ca-85d9-6facc7bd0ba1",
   "metadata": {},
   "outputs": [],
   "source": [
    "# from sklearn.preprocessing import LabelEncoder\n",
    "# label_encoder = LabelEncoder()\n",
    "\n",
    "# for col in df.columns :\n",
    "    # df[col] = label_encoder.fit_transform(df[col])\n",
    "\n",
    "# df['Wine'].value_counts()"
   ]
  },
  {
   "cell_type": "markdown",
   "id": "90d4befc-0cb7-472c-9575-1f7763b03f28",
   "metadata": {},
   "source": [
    "스케일링을 통해 데이터의 값을 범위 조정"
   ]
  },
  {
   "cell_type": "code",
   "execution_count": 17,
   "id": "35407b68-2a47-435d-8a7a-ec9f161a83d8",
   "metadata": {},
   "outputs": [
    {
     "data": {
      "text/plain": [
       "array([[ 1.51861254, -0.5622498 ,  0.23205254, ...,  0.36217728,\n",
       "         1.84791957,  1.01300893],\n",
       "       [ 0.24628963, -0.49941338, -0.82799632, ...,  0.40605066,\n",
       "         1.1134493 ,  0.96524152],\n",
       "       [ 0.19687903,  0.02123125,  1.10933436, ...,  0.31830389,\n",
       "         0.78858745,  1.39514818],\n",
       "       ...,\n",
       "       [ 0.33275817,  1.74474449, -0.38935541, ..., -1.61212515,\n",
       "        -1.48544548,  0.28057537],\n",
       "       [ 0.20923168,  0.22769377,  0.01273209, ..., -1.56825176,\n",
       "        -1.40069891,  0.29649784],\n",
       "       [ 1.39508604,  1.58316512,  1.36520822, ..., -1.52437837,\n",
       "        -1.42894777, -0.59516041]])"
      ]
     },
     "execution_count": 17,
     "metadata": {},
     "output_type": "execute_result"
    }
   ],
   "source": [
    "from sklearn.preprocessing import StandardScaler\n",
    "# Standardize the data\n",
    "scaler = StandardScaler()\n",
    "\n",
    "X = scaler.fit_transform(X)\n",
    "X"
   ]
  },
  {
   "cell_type": "markdown",
   "id": "4e0c5bd5-3dbb-4c89-a9c7-5de5a58e70d5",
   "metadata": {},
   "source": [
    "---\n",
    "# 데이터 분류"
   ]
  },
  {
   "cell_type": "code",
   "execution_count": 18,
   "id": "dd65e753-b1fc-4481-897c-3c7d48de424e",
   "metadata": {},
   "outputs": [
    {
     "data": {
      "text/plain": [
       "((133, 13), (45, 13), (133,), (45,))"
      ]
     },
     "execution_count": 18,
     "metadata": {},
     "output_type": "execute_result"
    }
   ],
   "source": [
    "from sklearn.model_selection import train_test_split\n",
    "\n",
    "X_train, X_test, y_train, y_test = train_test_split(X, Y, test_size=0.25, random_state=42)\n",
    "\n",
    "X_train.shape, X_test.shape, y_train.shape, y_test.shape"
   ]
  },
  {
   "cell_type": "markdown",
   "id": "b852e1f2-7863-4279-aed0-f169c3d03c07",
   "metadata": {},
   "source": [
    "---\n",
    "# 분류\n",
    "와인 데이터는 와인의 종류를 분류하는 것이 괜찮아 보임"
   ]
  },
  {
   "cell_type": "code",
   "execution_count": 80,
   "id": "fb11140b-74cc-47b6-b959-1eec87f80f24",
   "metadata": {},
   "outputs": [],
   "source": [
    "from sklearn.metrics import accuracy_score"
   ]
  },
  {
   "cell_type": "markdown",
   "id": "a1bb057f-835b-4bbf-bdd0-83b002c6b6a4",
   "metadata": {},
   "source": [
    "DecisionTreeClassifier"
   ]
  },
  {
   "cell_type": "code",
   "execution_count": 94,
   "id": "c2534a1d-c488-4207-85c4-204890ca8c3a",
   "metadata": {},
   "outputs": [
    {
     "name": "stdout",
     "output_type": "stream",
     "text": [
      "DecisionTree  -  0.9555555555555556\n"
     ]
    }
   ],
   "source": [
    "from sklearn.tree import DecisionTreeClassifier\n",
    "\n",
    "model = DecisionTreeClassifier(random_state=42)\n",
    "model.fit(X_train, y_train)\n",
    "y_pred = model.predict(X_test)\n",
    "acc = accuracy_score(y_test, y_pred)\n",
    "print(f'DecisionTree  -  {acc}')"
   ]
  },
  {
   "cell_type": "markdown",
   "id": "c4fb578b-0ad6-4af9-8b4c-f0090894eb63",
   "metadata": {},
   "source": [
    "RandomForestClassifier"
   ]
  },
  {
   "cell_type": "code",
   "execution_count": 97,
   "id": "3be9cf9c-edd1-43c1-94e2-0469ffcfeae6",
   "metadata": {},
   "outputs": [
    {
     "name": "stdout",
     "output_type": "stream",
     "text": [
      "RandomForest  -  1.0\n"
     ]
    }
   ],
   "source": [
    "from sklearn.ensemble import RandomForestClassifier\n",
    "\n",
    "model = RandomForestClassifier(random_state=42)\n",
    "model.fit(X_train, y_train)\n",
    "y_pred = model.predict(X_test)\n",
    "acc = accuracy_score(y_test, y_pred)\n",
    "print(f'RandomForest  -  {acc}')"
   ]
  },
  {
   "cell_type": "markdown",
   "id": "635b29d6-c911-4461-b06d-b7178a5c6c5a",
   "metadata": {},
   "source": [
    "LogisticRegression"
   ]
  },
  {
   "cell_type": "code",
   "execution_count": 99,
   "id": "fd01fec4-a5e0-4f4f-a5e7-46a4e6eff64f",
   "metadata": {},
   "outputs": [
    {
     "name": "stdout",
     "output_type": "stream",
     "text": [
      "LogisticRegression  -  0.9777777777777777\n"
     ]
    }
   ],
   "source": [
    "from sklearn.linear_model import LogisticRegression\n",
    "\n",
    "model = LogisticRegression(max_iter=200, random_state=42)\n",
    "model.fit(X_train, y_train)\n",
    "y_pred = model.predict(X_test)\n",
    "acc = accuracy_score(y_test, y_pred)\n",
    "print(f'LogisticRegression  -  {acc}')"
   ]
  },
  {
   "cell_type": "markdown",
   "id": "45660acb-907d-403e-83ed-e5879be71e0c",
   "metadata": {},
   "source": [
    "KNeighborsClassifier"
   ]
  },
  {
   "cell_type": "code",
   "execution_count": 35,
   "id": "4cebc9b9-56b4-41bb-a9a9-59a1eaf6171a",
   "metadata": {},
   "outputs": [
    {
     "name": "stdout",
     "output_type": "stream",
     "text": [
      "KNN  -  0.7555555555555555\n"
     ]
    }
   ],
   "source": [
    "from sklearn.neighbors import KNeighborsClassifier\n",
    "\n",
    "model = KNeighborsClassifier(n_neighbors=3)\n",
    "model.fit(X_train, y_train)\n",
    "y_pred = model.predict(X_test)\n",
    "acc = accuracy_score(y_test, y_pred)\n",
    "print(f'KNN  -  {acc}')"
   ]
  },
  {
   "cell_type": "markdown",
   "id": "1ce5e679-e1f6-4fa7-b8ae-968a486d22ed",
   "metadata": {},
   "source": [
    "---\n",
    "# 딥러닝"
   ]
  },
  {
   "cell_type": "code",
   "execution_count": null,
   "id": "6ecaf799-c786-4574-af9e-3e253123da4b",
   "metadata": {},
   "outputs": [],
   "source": [
    "원 핫 인코딩"
   ]
  },
  {
   "cell_type": "code",
   "execution_count": 67,
   "id": "b78ec69e-11c3-424a-8856-dd0f18c08464",
   "metadata": {},
   "outputs": [
    {
     "data": {
      "text/plain": [
       "array([[1, 0, 0],\n",
       "       [1, 0, 0],\n",
       "       [1, 0, 0],\n",
       "       [1, 0, 0],\n",
       "       [1, 0, 0],\n",
       "       [1, 0, 0],\n",
       "       [1, 0, 0],\n",
       "       [1, 0, 0],\n",
       "       [1, 0, 0],\n",
       "       [1, 0, 0],\n",
       "       [1, 0, 0],\n",
       "       [1, 0, 0],\n",
       "       [1, 0, 0],\n",
       "       [1, 0, 0],\n",
       "       [1, 0, 0],\n",
       "       [1, 0, 0],\n",
       "       [1, 0, 0],\n",
       "       [1, 0, 0],\n",
       "       [1, 0, 0],\n",
       "       [1, 0, 0],\n",
       "       [1, 0, 0],\n",
       "       [1, 0, 0],\n",
       "       [1, 0, 0],\n",
       "       [1, 0, 0],\n",
       "       [1, 0, 0],\n",
       "       [1, 0, 0],\n",
       "       [1, 0, 0],\n",
       "       [1, 0, 0],\n",
       "       [1, 0, 0],\n",
       "       [1, 0, 0],\n",
       "       [1, 0, 0],\n",
       "       [1, 0, 0],\n",
       "       [1, 0, 0],\n",
       "       [1, 0, 0],\n",
       "       [1, 0, 0],\n",
       "       [1, 0, 0],\n",
       "       [1, 0, 0],\n",
       "       [1, 0, 0],\n",
       "       [1, 0, 0],\n",
       "       [1, 0, 0],\n",
       "       [1, 0, 0],\n",
       "       [1, 0, 0],\n",
       "       [1, 0, 0],\n",
       "       [1, 0, 0],\n",
       "       [1, 0, 0],\n",
       "       [1, 0, 0],\n",
       "       [1, 0, 0],\n",
       "       [1, 0, 0],\n",
       "       [1, 0, 0],\n",
       "       [1, 0, 0],\n",
       "       [1, 0, 0],\n",
       "       [1, 0, 0],\n",
       "       [1, 0, 0],\n",
       "       [1, 0, 0],\n",
       "       [1, 0, 0],\n",
       "       [1, 0, 0],\n",
       "       [1, 0, 0],\n",
       "       [1, 0, 0],\n",
       "       [1, 0, 0],\n",
       "       [0, 1, 0],\n",
       "       [0, 1, 0],\n",
       "       [0, 1, 0],\n",
       "       [0, 1, 0],\n",
       "       [0, 1, 0],\n",
       "       [0, 1, 0],\n",
       "       [0, 1, 0],\n",
       "       [0, 1, 0],\n",
       "       [0, 1, 0],\n",
       "       [0, 1, 0],\n",
       "       [0, 1, 0],\n",
       "       [0, 1, 0],\n",
       "       [0, 1, 0],\n",
       "       [0, 1, 0],\n",
       "       [0, 1, 0],\n",
       "       [0, 1, 0],\n",
       "       [0, 1, 0],\n",
       "       [0, 1, 0],\n",
       "       [0, 1, 0],\n",
       "       [0, 1, 0],\n",
       "       [0, 1, 0],\n",
       "       [0, 1, 0],\n",
       "       [0, 1, 0],\n",
       "       [0, 1, 0],\n",
       "       [0, 1, 0],\n",
       "       [0, 1, 0],\n",
       "       [0, 1, 0],\n",
       "       [0, 1, 0],\n",
       "       [0, 1, 0],\n",
       "       [0, 1, 0],\n",
       "       [0, 1, 0],\n",
       "       [0, 1, 0],\n",
       "       [0, 1, 0],\n",
       "       [0, 1, 0],\n",
       "       [0, 1, 0],\n",
       "       [0, 1, 0],\n",
       "       [0, 1, 0],\n",
       "       [0, 1, 0],\n",
       "       [0, 1, 0],\n",
       "       [0, 1, 0],\n",
       "       [0, 1, 0],\n",
       "       [0, 1, 0],\n",
       "       [0, 1, 0],\n",
       "       [0, 1, 0],\n",
       "       [0, 1, 0],\n",
       "       [0, 1, 0],\n",
       "       [0, 1, 0],\n",
       "       [0, 1, 0],\n",
       "       [0, 1, 0],\n",
       "       [0, 1, 0],\n",
       "       [0, 1, 0],\n",
       "       [0, 1, 0],\n",
       "       [0, 1, 0],\n",
       "       [0, 1, 0],\n",
       "       [0, 1, 0],\n",
       "       [0, 1, 0],\n",
       "       [0, 1, 0],\n",
       "       [0, 1, 0],\n",
       "       [0, 1, 0],\n",
       "       [0, 1, 0],\n",
       "       [0, 1, 0],\n",
       "       [0, 1, 0],\n",
       "       [0, 1, 0],\n",
       "       [0, 1, 0],\n",
       "       [0, 1, 0],\n",
       "       [0, 1, 0],\n",
       "       [0, 1, 0],\n",
       "       [0, 1, 0],\n",
       "       [0, 1, 0],\n",
       "       [0, 1, 0],\n",
       "       [0, 1, 0],\n",
       "       [0, 0, 1],\n",
       "       [0, 0, 1],\n",
       "       [0, 0, 1],\n",
       "       [0, 0, 1],\n",
       "       [0, 0, 1],\n",
       "       [0, 0, 1],\n",
       "       [0, 0, 1],\n",
       "       [0, 0, 1],\n",
       "       [0, 0, 1],\n",
       "       [0, 0, 1],\n",
       "       [0, 0, 1],\n",
       "       [0, 0, 1],\n",
       "       [0, 0, 1],\n",
       "       [0, 0, 1],\n",
       "       [0, 0, 1],\n",
       "       [0, 0, 1],\n",
       "       [0, 0, 1],\n",
       "       [0, 0, 1],\n",
       "       [0, 0, 1],\n",
       "       [0, 0, 1],\n",
       "       [0, 0, 1],\n",
       "       [0, 0, 1],\n",
       "       [0, 0, 1],\n",
       "       [0, 0, 1],\n",
       "       [0, 0, 1],\n",
       "       [0, 0, 1],\n",
       "       [0, 0, 1],\n",
       "       [0, 0, 1],\n",
       "       [0, 0, 1],\n",
       "       [0, 0, 1],\n",
       "       [0, 0, 1],\n",
       "       [0, 0, 1],\n",
       "       [0, 0, 1],\n",
       "       [0, 0, 1],\n",
       "       [0, 0, 1],\n",
       "       [0, 0, 1],\n",
       "       [0, 0, 1],\n",
       "       [0, 0, 1],\n",
       "       [0, 0, 1],\n",
       "       [0, 0, 1],\n",
       "       [0, 0, 1],\n",
       "       [0, 0, 1],\n",
       "       [0, 0, 1],\n",
       "       [0, 0, 1],\n",
       "       [0, 0, 1],\n",
       "       [0, 0, 1],\n",
       "       [0, 0, 1],\n",
       "       [0, 0, 1]])"
      ]
     },
     "execution_count": 67,
     "metadata": {},
     "output_type": "execute_result"
    }
   ],
   "source": [
    "Y = pd.get_dummies(df['Wine'], dtype=int).values\n",
    "Y"
   ]
  },
  {
   "cell_type": "code",
   "execution_count": 23,
   "id": "4b1e7ead-d294-4438-8f36-8f581f12b512",
   "metadata": {},
   "outputs": [
    {
     "data": {
      "text/plain": [
       "((133, 13), (45, 13), (133, 3), (45, 3))"
      ]
     },
     "execution_count": 23,
     "metadata": {},
     "output_type": "execute_result"
    }
   ],
   "source": [
    "X_train, X_test, y_train, y_test = train_test_split(X, Y, test_size=0.25, random_state=42)\n",
    "\n",
    "X_train.shape, X_test.shape, y_train.shape, y_test.shape"
   ]
  },
  {
   "cell_type": "code",
   "execution_count": 21,
   "id": "b953f605-3b86-49d8-9de1-e90fdbd32333",
   "metadata": {},
   "outputs": [],
   "source": [
    "# pip install keras"
   ]
  },
  {
   "cell_type": "code",
   "execution_count": 23,
   "id": "986ff4de-6f92-44bb-b9b3-ffcd4c31282c",
   "metadata": {},
   "outputs": [],
   "source": [
    "# pip install tensorflow"
   ]
  },
  {
   "cell_type": "code",
   "execution_count": 61,
   "id": "c3a388b2-9dc2-409b-b52c-3c0b045fb63a",
   "metadata": {},
   "outputs": [
    {
     "data": {
      "text/html": [
       "<pre style=\"white-space:pre;overflow-x:auto;line-height:normal;font-family:Menlo,'DejaVu Sans Mono',consolas,'Courier New',monospace\"><span style=\"font-weight: bold\">Model: \"sequential_12\"</span>\n",
       "</pre>\n"
      ],
      "text/plain": [
       "\u001b[1mModel: \"sequential_12\"\u001b[0m\n"
      ]
     },
     "metadata": {},
     "output_type": "display_data"
    },
    {
     "data": {
      "text/html": [
       "<pre style=\"white-space:pre;overflow-x:auto;line-height:normal;font-family:Menlo,'DejaVu Sans Mono',consolas,'Courier New',monospace\">┏━━━━━━━━━━━━━━━━━━━━━━━━━━━━━━━━━━━━━━┳━━━━━━━━━━━━━━━━━━━━━━━━━━━━━┳━━━━━━━━━━━━━━━━━┓\n",
       "┃<span style=\"font-weight: bold\"> Layer (type)                         </span>┃<span style=\"font-weight: bold\"> Output Shape                </span>┃<span style=\"font-weight: bold\">         Param # </span>┃\n",
       "┡━━━━━━━━━━━━━━━━━━━━━━━━━━━━━━━━━━━━━━╇━━━━━━━━━━━━━━━━━━━━━━━━━━━━━╇━━━━━━━━━━━━━━━━━┩\n",
       "│ dense_44 (<span style=\"color: #0087ff; text-decoration-color: #0087ff\">Dense</span>)                     │ (<span style=\"color: #00d7ff; text-decoration-color: #00d7ff\">None</span>, <span style=\"color: #00af00; text-decoration-color: #00af00\">10</span>)                  │             <span style=\"color: #00af00; text-decoration-color: #00af00\">140</span> │\n",
       "├──────────────────────────────────────┼─────────────────────────────┼─────────────────┤\n",
       "│ dense_45 (<span style=\"color: #0087ff; text-decoration-color: #0087ff\">Dense</span>)                     │ (<span style=\"color: #00d7ff; text-decoration-color: #00d7ff\">None</span>, <span style=\"color: #00af00; text-decoration-color: #00af00\">8</span>)                   │              <span style=\"color: #00af00; text-decoration-color: #00af00\">88</span> │\n",
       "├──────────────────────────────────────┼─────────────────────────────┼─────────────────┤\n",
       "│ dense_46 (<span style=\"color: #0087ff; text-decoration-color: #0087ff\">Dense</span>)                     │ (<span style=\"color: #00d7ff; text-decoration-color: #00d7ff\">None</span>, <span style=\"color: #00af00; text-decoration-color: #00af00\">6</span>)                   │              <span style=\"color: #00af00; text-decoration-color: #00af00\">54</span> │\n",
       "├──────────────────────────────────────┼─────────────────────────────┼─────────────────┤\n",
       "│ dense_47 (<span style=\"color: #0087ff; text-decoration-color: #0087ff\">Dense</span>)                     │ (<span style=\"color: #00d7ff; text-decoration-color: #00d7ff\">None</span>, <span style=\"color: #00af00; text-decoration-color: #00af00\">3</span>)                   │              <span style=\"color: #00af00; text-decoration-color: #00af00\">21</span> │\n",
       "└──────────────────────────────────────┴─────────────────────────────┴─────────────────┘\n",
       "</pre>\n"
      ],
      "text/plain": [
       "┏━━━━━━━━━━━━━━━━━━━━━━━━━━━━━━━━━━━━━━┳━━━━━━━━━━━━━━━━━━━━━━━━━━━━━┳━━━━━━━━━━━━━━━━━┓\n",
       "┃\u001b[1m \u001b[0m\u001b[1mLayer (type)                        \u001b[0m\u001b[1m \u001b[0m┃\u001b[1m \u001b[0m\u001b[1mOutput Shape               \u001b[0m\u001b[1m \u001b[0m┃\u001b[1m \u001b[0m\u001b[1m        Param #\u001b[0m\u001b[1m \u001b[0m┃\n",
       "┡━━━━━━━━━━━━━━━━━━━━━━━━━━━━━━━━━━━━━━╇━━━━━━━━━━━━━━━━━━━━━━━━━━━━━╇━━━━━━━━━━━━━━━━━┩\n",
       "│ dense_44 (\u001b[38;5;33mDense\u001b[0m)                     │ (\u001b[38;5;45mNone\u001b[0m, \u001b[38;5;34m10\u001b[0m)                  │             \u001b[38;5;34m140\u001b[0m │\n",
       "├──────────────────────────────────────┼─────────────────────────────┼─────────────────┤\n",
       "│ dense_45 (\u001b[38;5;33mDense\u001b[0m)                     │ (\u001b[38;5;45mNone\u001b[0m, \u001b[38;5;34m8\u001b[0m)                   │              \u001b[38;5;34m88\u001b[0m │\n",
       "├──────────────────────────────────────┼─────────────────────────────┼─────────────────┤\n",
       "│ dense_46 (\u001b[38;5;33mDense\u001b[0m)                     │ (\u001b[38;5;45mNone\u001b[0m, \u001b[38;5;34m6\u001b[0m)                   │              \u001b[38;5;34m54\u001b[0m │\n",
       "├──────────────────────────────────────┼─────────────────────────────┼─────────────────┤\n",
       "│ dense_47 (\u001b[38;5;33mDense\u001b[0m)                     │ (\u001b[38;5;45mNone\u001b[0m, \u001b[38;5;34m3\u001b[0m)                   │              \u001b[38;5;34m21\u001b[0m │\n",
       "└──────────────────────────────────────┴─────────────────────────────┴─────────────────┘\n"
      ]
     },
     "metadata": {},
     "output_type": "display_data"
    },
    {
     "data": {
      "text/html": [
       "<pre style=\"white-space:pre;overflow-x:auto;line-height:normal;font-family:Menlo,'DejaVu Sans Mono',consolas,'Courier New',monospace\"><span style=\"font-weight: bold\"> Total params: </span><span style=\"color: #00af00; text-decoration-color: #00af00\">303</span> (1.18 KB)\n",
       "</pre>\n"
      ],
      "text/plain": [
       "\u001b[1m Total params: \u001b[0m\u001b[38;5;34m303\u001b[0m (1.18 KB)\n"
      ]
     },
     "metadata": {},
     "output_type": "display_data"
    },
    {
     "data": {
      "text/html": [
       "<pre style=\"white-space:pre;overflow-x:auto;line-height:normal;font-family:Menlo,'DejaVu Sans Mono',consolas,'Courier New',monospace\"><span style=\"font-weight: bold\"> Trainable params: </span><span style=\"color: #00af00; text-decoration-color: #00af00\">303</span> (1.18 KB)\n",
       "</pre>\n"
      ],
      "text/plain": [
       "\u001b[1m Trainable params: \u001b[0m\u001b[38;5;34m303\u001b[0m (1.18 KB)\n"
      ]
     },
     "metadata": {},
     "output_type": "display_data"
    },
    {
     "data": {
      "text/html": [
       "<pre style=\"white-space:pre;overflow-x:auto;line-height:normal;font-family:Menlo,'DejaVu Sans Mono',consolas,'Courier New',monospace\"><span style=\"font-weight: bold\"> Non-trainable params: </span><span style=\"color: #00af00; text-decoration-color: #00af00\">0</span> (0.00 B)\n",
       "</pre>\n"
      ],
      "text/plain": [
       "\u001b[1m Non-trainable params: \u001b[0m\u001b[38;5;34m0\u001b[0m (0.00 B)\n"
      ]
     },
     "metadata": {},
     "output_type": "display_data"
    }
   ],
   "source": [
    "from keras.models import Sequential\n",
    "from tensorflow import keras\n",
    "from keras.layers import Dense\n",
    "from keras.optimizers import SGD,Adam\n",
    "\n",
    "\n",
    "model = Sequential()\n",
    "\n",
    "model.add(keras.Input(shape=(13,)))\n",
    "model.add(Dense(10,activation='relu'))\n",
    "model.add(Dense(8,activation='relu'))\n",
    "model.add(Dense(6,activation='relu'))\n",
    "model.add(Dense(3,activation='softmax'))\n",
    "\n",
    "model.compile(Adam(learning_rate=0.04),'categorical_crossentropy',metrics=['accuracy'])\n",
    "\n",
    "model.summary()"
   ]
  },
  {
   "cell_type": "code",
   "execution_count": 41,
   "id": "a046849d-335a-4f5a-9b26-8e328fd1d7e2",
   "metadata": {},
   "outputs": [
    {
     "name": "stdout",
     "output_type": "stream",
     "text": [
      "Epoch 1/30\n",
      "\u001b[1m5/5\u001b[0m \u001b[32m━━━━━━━━━━━━━━━━━━━━\u001b[0m\u001b[37m\u001b[0m \u001b[1m2s\u001b[0m 69ms/step - accuracy: 0.2992 - loss: 0.6485 - val_accuracy: 0.5333 - val_loss: 0.5088\n",
      "Epoch 2/30\n",
      "\u001b[1m5/5\u001b[0m \u001b[32m━━━━━━━━━━━━━━━━━━━━\u001b[0m\u001b[37m\u001b[0m \u001b[1m0s\u001b[0m 22ms/step - accuracy: 0.5646 - loss: 0.4676 - val_accuracy: 0.6444 - val_loss: 0.3787\n",
      "Epoch 3/30\n",
      "\u001b[1m5/5\u001b[0m \u001b[32m━━━━━━━━━━━━━━━━━━━━\u001b[0m\u001b[37m\u001b[0m \u001b[1m0s\u001b[0m 26ms/step - accuracy: 0.6641 - loss: 0.3508 - val_accuracy: 0.6889 - val_loss: 0.2659\n",
      "Epoch 4/30\n",
      "\u001b[1m5/5\u001b[0m \u001b[32m━━━━━━━━━━━━━━━━━━━━\u001b[0m\u001b[37m\u001b[0m \u001b[1m0s\u001b[0m 22ms/step - accuracy: 0.7970 - loss: 0.2414 - val_accuracy: 0.9556 - val_loss: 0.1865\n",
      "Epoch 5/30\n",
      "\u001b[1m5/5\u001b[0m \u001b[32m━━━━━━━━━━━━━━━━━━━━\u001b[0m\u001b[37m\u001b[0m \u001b[1m0s\u001b[0m 33ms/step - accuracy: 0.9811 - loss: 0.1281 - val_accuracy: 0.9556 - val_loss: 0.0834\n",
      "Epoch 6/30\n",
      "\u001b[1m5/5\u001b[0m \u001b[32m━━━━━━━━━━━━━━━━━━━━\u001b[0m\u001b[37m\u001b[0m \u001b[1m0s\u001b[0m 19ms/step - accuracy: 0.9945 - loss: 0.0388 - val_accuracy: 1.0000 - val_loss: 0.0163\n",
      "Epoch 7/30\n",
      "\u001b[1m5/5\u001b[0m \u001b[32m━━━━━━━━━━━━━━━━━━━━\u001b[0m\u001b[37m\u001b[0m \u001b[1m0s\u001b[0m 21ms/step - accuracy: 1.0000 - loss: 0.0035 - val_accuracy: 1.0000 - val_loss: 0.0030\n",
      "Epoch 8/30\n",
      "\u001b[1m5/5\u001b[0m \u001b[32m━━━━━━━━━━━━━━━━━━━━\u001b[0m\u001b[37m\u001b[0m \u001b[1m0s\u001b[0m 23ms/step - accuracy: 1.0000 - loss: 0.0069 - val_accuracy: 0.9778 - val_loss: 0.0268\n",
      "Epoch 9/30\n",
      "\u001b[1m5/5\u001b[0m \u001b[32m━━━━━━━━━━━━━━━━━━━━\u001b[0m\u001b[37m\u001b[0m \u001b[1m0s\u001b[0m 24ms/step - accuracy: 1.0000 - loss: 0.0018 - val_accuracy: 0.9778 - val_loss: 0.0322\n",
      "Epoch 10/30\n",
      "\u001b[1m5/5\u001b[0m \u001b[32m━━━━━━━━━━━━━━━━━━━━\u001b[0m\u001b[37m\u001b[0m \u001b[1m0s\u001b[0m 30ms/step - accuracy: 1.0000 - loss: 0.0012 - val_accuracy: 1.0000 - val_loss: 0.0086\n",
      "Epoch 11/30\n",
      "\u001b[1m5/5\u001b[0m \u001b[32m━━━━━━━━━━━━━━━━━━━━\u001b[0m\u001b[37m\u001b[0m \u001b[1m0s\u001b[0m 21ms/step - accuracy: 1.0000 - loss: 3.1243e-05 - val_accuracy: 1.0000 - val_loss: 0.0020\n",
      "Epoch 12/30\n",
      "\u001b[1m5/5\u001b[0m \u001b[32m━━━━━━━━━━━━━━━━━━━━\u001b[0m\u001b[37m\u001b[0m \u001b[1m0s\u001b[0m 25ms/step - accuracy: 1.0000 - loss: 2.2657e-05 - val_accuracy: 1.0000 - val_loss: 9.2490e-04\n",
      "Epoch 13/30\n",
      "\u001b[1m5/5\u001b[0m \u001b[32m━━━━━━━━━━━━━━━━━━━━\u001b[0m\u001b[37m\u001b[0m \u001b[1m0s\u001b[0m 25ms/step - accuracy: 1.0000 - loss: 2.0678e-05 - val_accuracy: 1.0000 - val_loss: 5.8491e-04\n",
      "Epoch 14/30\n",
      "\u001b[1m5/5\u001b[0m \u001b[32m━━━━━━━━━━━━━━━━━━━━\u001b[0m\u001b[37m\u001b[0m \u001b[1m0s\u001b[0m 21ms/step - accuracy: 1.0000 - loss: 1.6064e-05 - val_accuracy: 1.0000 - val_loss: 5.0263e-04\n",
      "Epoch 15/30\n",
      "\u001b[1m5/5\u001b[0m \u001b[32m━━━━━━━━━━━━━━━━━━━━\u001b[0m\u001b[37m\u001b[0m \u001b[1m0s\u001b[0m 21ms/step - accuracy: 1.0000 - loss: 1.2798e-05 - val_accuracy: 1.0000 - val_loss: 4.7549e-04\n",
      "Epoch 16/30\n",
      "\u001b[1m5/5\u001b[0m \u001b[32m━━━━━━━━━━━━━━━━━━━━\u001b[0m\u001b[37m\u001b[0m \u001b[1m0s\u001b[0m 22ms/step - accuracy: 1.0000 - loss: 1.1871e-05 - val_accuracy: 1.0000 - val_loss: 4.5017e-04\n",
      "Epoch 17/30\n",
      "\u001b[1m5/5\u001b[0m \u001b[32m━━━━━━━━━━━━━━━━━━━━\u001b[0m\u001b[37m\u001b[0m \u001b[1m0s\u001b[0m 22ms/step - accuracy: 1.0000 - loss: 7.3484e-06 - val_accuracy: 1.0000 - val_loss: 4.2396e-04\n",
      "Epoch 18/30\n",
      "\u001b[1m5/5\u001b[0m \u001b[32m━━━━━━━━━━━━━━━━━━━━\u001b[0m\u001b[37m\u001b[0m \u001b[1m0s\u001b[0m 26ms/step - accuracy: 1.0000 - loss: 1.4675e-05 - val_accuracy: 1.0000 - val_loss: 4.0580e-04\n",
      "Epoch 19/30\n",
      "\u001b[1m5/5\u001b[0m \u001b[32m━━━━━━━━━━━━━━━━━━━━\u001b[0m\u001b[37m\u001b[0m \u001b[1m0s\u001b[0m 22ms/step - accuracy: 1.0000 - loss: 8.8914e-06 - val_accuracy: 1.0000 - val_loss: 3.9400e-04\n",
      "Epoch 20/30\n",
      "\u001b[1m5/5\u001b[0m \u001b[32m━━━━━━━━━━━━━━━━━━━━\u001b[0m\u001b[37m\u001b[0m \u001b[1m0s\u001b[0m 20ms/step - accuracy: 1.0000 - loss: 1.0297e-05 - val_accuracy: 1.0000 - val_loss: 3.8558e-04\n",
      "Epoch 21/30\n",
      "\u001b[1m5/5\u001b[0m \u001b[32m━━━━━━━━━━━━━━━━━━━━\u001b[0m\u001b[37m\u001b[0m \u001b[1m0s\u001b[0m 25ms/step - accuracy: 1.0000 - loss: 9.1261e-06 - val_accuracy: 1.0000 - val_loss: 3.7841e-04\n",
      "Epoch 22/30\n",
      "\u001b[1m5/5\u001b[0m \u001b[32m━━━━━━━━━━━━━━━━━━━━\u001b[0m\u001b[37m\u001b[0m \u001b[1m0s\u001b[0m 25ms/step - accuracy: 1.0000 - loss: 1.1060e-05 - val_accuracy: 1.0000 - val_loss: 3.6957e-04\n",
      "Epoch 23/30\n",
      "\u001b[1m5/5\u001b[0m \u001b[32m━━━━━━━━━━━━━━━━━━━━\u001b[0m\u001b[37m\u001b[0m \u001b[1m0s\u001b[0m 23ms/step - accuracy: 1.0000 - loss: 8.1653e-06 - val_accuracy: 1.0000 - val_loss: 3.6351e-04\n",
      "Epoch 24/30\n",
      "\u001b[1m5/5\u001b[0m \u001b[32m━━━━━━━━━━━━━━━━━━━━\u001b[0m\u001b[37m\u001b[0m \u001b[1m0s\u001b[0m 23ms/step - accuracy: 1.0000 - loss: 7.8833e-06 - val_accuracy: 1.0000 - val_loss: 3.5851e-04\n",
      "Epoch 25/30\n",
      "\u001b[1m5/5\u001b[0m \u001b[32m━━━━━━━━━━━━━━━━━━━━\u001b[0m\u001b[37m\u001b[0m \u001b[1m0s\u001b[0m 23ms/step - accuracy: 1.0000 - loss: 9.4691e-06 - val_accuracy: 1.0000 - val_loss: 3.5408e-04\n",
      "Epoch 26/30\n",
      "\u001b[1m5/5\u001b[0m \u001b[32m━━━━━━━━━━━━━━━━━━━━\u001b[0m\u001b[37m\u001b[0m \u001b[1m0s\u001b[0m 25ms/step - accuracy: 1.0000 - loss: 6.4372e-06 - val_accuracy: 1.0000 - val_loss: 3.5042e-04\n",
      "Epoch 27/30\n",
      "\u001b[1m5/5\u001b[0m \u001b[32m━━━━━━━━━━━━━━━━━━━━\u001b[0m\u001b[37m\u001b[0m \u001b[1m0s\u001b[0m 21ms/step - accuracy: 1.0000 - loss: 5.5927e-06 - val_accuracy: 1.0000 - val_loss: 3.4657e-04\n",
      "Epoch 28/30\n",
      "\u001b[1m5/5\u001b[0m \u001b[32m━━━━━━━━━━━━━━━━━━━━\u001b[0m\u001b[37m\u001b[0m \u001b[1m0s\u001b[0m 22ms/step - accuracy: 1.0000 - loss: 6.5742e-06 - val_accuracy: 1.0000 - val_loss: 3.4031e-04\n",
      "Epoch 29/30\n",
      "\u001b[1m5/5\u001b[0m \u001b[32m━━━━━━━━━━━━━━━━━━━━\u001b[0m\u001b[37m\u001b[0m \u001b[1m0s\u001b[0m 25ms/step - accuracy: 1.0000 - loss: 6.5275e-06 - val_accuracy: 1.0000 - val_loss: 3.3534e-04\n",
      "Epoch 30/30\n",
      "\u001b[1m5/5\u001b[0m \u001b[32m━━━━━━━━━━━━━━━━━━━━\u001b[0m\u001b[37m\u001b[0m \u001b[1m0s\u001b[0m 24ms/step - accuracy: 1.0000 - loss: 7.9097e-06 - val_accuracy: 1.0000 - val_loss: 3.3114e-04\n",
      "\u001b[1m2/2\u001b[0m \u001b[32m━━━━━━━━━━━━━━━━━━━━\u001b[0m\u001b[37m\u001b[0m \u001b[1m0s\u001b[0m 61ms/step\n"
     ]
    }
   ],
   "source": [
    "import numpy as np\n",
    "\n",
    "model_history=model.fit(x=X_train, y=y_train, epochs=30, batch_size=32,validation_data= (X_test,y_test))\n",
    "y_pred = model.predict(X_test)\n",
    "\n",
    "y_test_class = np.argmax(y_test,axis=1)\n",
    "y_pred_class = np.argmax(y_pred,axis=1)"
   ]
  },
  {
   "cell_type": "code",
   "execution_count": 63,
   "id": "5f537b94-b37f-46d7-95bc-6cf226d9e267",
   "metadata": {},
   "outputs": [
    {
     "name": "stdout",
     "output_type": "stream",
     "text": [
      "              precision    recall  f1-score   support\n",
      "\n",
      "           0       1.00      1.00      1.00        15\n",
      "           1       1.00      1.00      1.00        18\n",
      "           2       1.00      1.00      1.00        12\n",
      "\n",
      "    accuracy                           1.00        45\n",
      "   macro avg       1.00      1.00      1.00        45\n",
      "weighted avg       1.00      1.00      1.00        45\n",
      "\n",
      "[[15  0  0]\n",
      " [ 0 18  0]\n",
      " [ 0  0 12]]\n"
     ]
    }
   ],
   "source": [
    "from sklearn.metrics import classification_report,confusion_matrix\n",
    "print(classification_report(y_test_class,y_pred_class))\n",
    "print(confusion_matrix(y_test_class,y_pred_class))"
   ]
  },
  {
   "cell_type": "markdown",
   "id": "040e7e62-d3ac-449b-8792-e6d4666df27d",
   "metadata": {},
   "source": [
    "---\n",
    "테스트"
   ]
  },
  {
   "cell_type": "code",
   "execution_count": 70,
   "id": "d76ed166-f65e-4d09-b4db-3d364b32b05c",
   "metadata": {},
   "outputs": [
    {
     "data": {
      "text/plain": [
       "<Axes: >"
      ]
     },
     "execution_count": 70,
     "metadata": {},
     "output_type": "execute_result"
    },
    {
     "data": {
      "image/png": "[encoded data removed]",
      "text/plain": [
       "<Figure size 1000x1000 with 2 Axes>"
      ]
     },
     "metadata": {},
     "output_type": "display_data"
    }
   ],
   "source": [
    "import seaborn as sns\n",
    "import matplotlib.pyplot as plt\n",
    "\n",
    "plt.figure(figsize=(10,10))\n",
    "sns.heatmap(df.corr(), cmap=\"Purples\", annot=True)"
   ]
  },
  {
   "cell_type": "code",
   "execution_count": 76,
   "id": "393f879a-050f-4399-83dd-5fbd684ee357",
   "metadata": {},
   "outputs": [
    {
     "data": {
      "text/plain": [
       "(array([[ 1.71    , 15.6     ,  0.28    ,  5.64    ],\n",
       "        [ 1.78    , 11.2     ,  0.26    ,  4.38    ],\n",
       "        [ 2.36    , 18.6     ,  0.3     ,  5.68    ],\n",
       "        [ 1.95    , 16.8     ,  0.24    ,  7.8     ],\n",
       "        [ 2.59    , 21.      ,  0.39    ,  4.32    ],\n",
       "        [ 1.76    , 15.2     ,  0.34    ,  6.75    ],\n",
       "        [ 1.87    , 14.6     ,  0.3     ,  5.25    ],\n",
       "        [ 2.15    , 17.6     ,  0.31    ,  5.05    ],\n",
       "        [ 1.64    , 14.      ,  0.29    ,  5.2     ],\n",
       "        [ 1.35    , 16.      ,  0.22    ,  7.22    ],\n",
       "        [ 2.16    , 18.      ,  0.22    ,  5.75    ],\n",
       "        [ 1.48    , 16.8     ,  0.26    ,  5.      ],\n",
       "        [ 1.73    , 16.      ,  0.29    ,  5.6     ],\n",
       "        [ 1.73    , 11.4     ,  0.43    ,  5.4     ],\n",
       "        [ 1.87    , 12.      ,  0.29    ,  7.5     ],\n",
       "        [ 1.81    , 17.2     ,  0.3     ,  7.3     ],\n",
       "        [ 1.92    , 20.      ,  0.33    ,  6.2     ],\n",
       "        [ 1.57    , 20.      ,  0.4     ,  6.6     ],\n",
       "        [ 1.59    , 16.5     ,  0.32    ,  8.7     ],\n",
       "        [ 3.1     , 15.2     ,  0.17    ,  5.1     ],\n",
       "        [ 1.63    , 16.      ,  0.24    ,  5.65    ],\n",
       "        [ 3.8     , 18.6     ,  0.25    ,  4.5     ],\n",
       "        [ 1.86    , 16.6     ,  0.27    ,  3.8     ],\n",
       "        [ 1.6     , 17.8     ,  0.26    ,  3.93    ],\n",
       "        [ 1.81    , 20.      ,  0.28    ,  3.52    ],\n",
       "        [ 2.05    , 25.      ,  0.47    ,  3.58    ],\n",
       "        [ 1.77    , 16.1     ,  0.34    ,  4.8     ],\n",
       "        [ 1.72    , 17.      ,  0.27    ,  3.95    ],\n",
       "        [ 1.9     , 19.4     ,  0.37    ,  4.5     ],\n",
       "        [ 1.68    , 16.      ,  0.26    ,  4.7     ],\n",
       "        [ 1.5     , 22.5     ,  0.29    ,  5.7     ],\n",
       "        [ 1.66    , 19.1     ,  0.22    ,  6.9     ],\n",
       "        [ 1.83    , 17.2     ,  0.42    ,  3.84    ],\n",
       "        [ 1.53    , 19.5     ,  0.5     ,  5.4     ],\n",
       "        [ 1.8     , 19.      ,  0.29    ,  4.2     ],\n",
       "        [ 1.81    , 20.5     ,  0.26    ,  5.1     ],\n",
       "        [ 1.64    , 15.5     ,  0.34    ,  4.6     ],\n",
       "        [ 1.65    , 18.      ,  0.29    ,  4.25    ],\n",
       "        [ 1.5     , 15.5     ,  0.28    ,  3.7     ],\n",
       "        [ 3.99    , 13.2     ,  0.2     ,  5.1     ],\n",
       "        [ 1.71    , 16.2     ,  0.34    ,  6.13    ],\n",
       "        [ 3.84    , 18.8     ,  0.27    ,  4.28    ],\n",
       "        [ 1.89    , 15.      ,  0.17    ,  5.43    ],\n",
       "        [ 3.98    , 17.5     ,  0.32    ,  4.36    ],\n",
       "        [ 1.77    , 17.      ,  0.28    ,  5.04    ],\n",
       "        [ 4.04    , 18.9     ,  0.3     ,  5.24    ],\n",
       "        [ 3.59    , 16.      ,  0.27    ,  4.9     ],\n",
       "        [ 1.68    , 16.      ,  0.21    ,  6.1     ],\n",
       "        [ 2.02    , 18.8     ,  0.32    ,  6.2     ],\n",
       "        [ 1.73    , 17.4     ,  0.32    ,  8.9     ],\n",
       "        [ 1.73    , 12.4     ,  0.17    ,  7.2     ],\n",
       "        [ 1.65    , 17.2     ,  0.22    ,  5.6     ],\n",
       "        [ 1.75    , 14.      ,  0.32    ,  7.05    ],\n",
       "        [ 1.9     , 17.1     ,  0.39    ,  6.3     ],\n",
       "        [ 1.67    , 16.4     ,  0.21    ,  5.85    ],\n",
       "        [ 1.73    , 20.5     ,  0.2     ,  6.25    ],\n",
       "        [ 1.7     , 16.3     ,  0.26    ,  6.38    ],\n",
       "        [ 1.97    , 16.8     ,  0.31    ,  6.      ],\n",
       "        [ 1.43    , 16.7     ,  0.19    ,  6.8     ],\n",
       "        [ 0.94    , 10.6     ,  0.28    ,  1.95    ],\n",
       "        [ 1.1     , 16.      ,  0.63    ,  3.27    ],\n",
       "        [ 1.36    , 16.8     ,  0.53    ,  5.75    ],\n",
       "        [ 1.25    , 18.      ,  0.32    ,  3.8     ],\n",
       "        [ 1.13    , 19.      ,  0.19    ,  4.45    ],\n",
       "        [ 1.45    , 19.      ,  0.45    ,  2.95    ],\n",
       "        [ 1.21    , 18.1     ,  0.37    ,  4.6     ],\n",
       "        [ 1.01    , 15.      ,  0.26    ,  5.3     ],\n",
       "        [ 1.17    , 19.6     ,  0.27    ,  4.68    ],\n",
       "        [ 0.94    , 17.      ,  0.55    ,  3.17    ],\n",
       "        [ 1.19    , 16.8     ,  0.14    ,  2.85    ],\n",
       "        [ 1.61    , 20.4     ,  0.37    ,  3.05    ],\n",
       "        [ 1.51    , 25.      ,  0.21    ,  3.38    ],\n",
       "        [ 1.66    , 24.      ,  0.27    ,  3.74    ],\n",
       "        [ 1.67    , 30.      ,  0.21    ,  3.35    ],\n",
       "        [ 1.09    , 21.      ,  0.13    ,  3.21    ],\n",
       "        [ 1.88    , 16.      ,  0.34    ,  3.8     ],\n",
       "        [ 0.9     , 16.      ,  0.24    ,  4.6     ],\n",
       "        [ 2.89    , 18.      ,  0.43    ,  2.65    ],\n",
       "        [ 0.99    , 14.8     ,  0.35    ,  3.4     ],\n",
       "        [ 3.87    , 23.      ,  0.43    ,  2.57    ],\n",
       "        [ 0.92    , 19.      ,  0.3     ,  2.5     ],\n",
       "        [ 1.81    , 18.8     ,  0.26    ,  3.9     ],\n",
       "        [ 1.13    , 24.      ,  0.4     ,  2.2     ],\n",
       "        [ 3.86    , 22.5     ,  0.61    ,  4.8     ],\n",
       "        [ 0.89    , 18.      ,  0.22    ,  3.05    ],\n",
       "        [ 0.98    , 18.      ,  0.3     ,  2.62    ],\n",
       "        [ 1.61    , 22.8     ,  0.43    ,  2.45    ],\n",
       "        [ 1.67    , 26.      ,  0.4     ,  2.6     ],\n",
       "        [ 2.06    , 21.6     ,  0.48    ,  2.8     ],\n",
       "        [ 1.33    , 23.6     ,  0.42    ,  1.74    ],\n",
       "        [ 1.83    , 18.5     ,  0.52    ,  2.4     ],\n",
       "        [ 1.51    , 22.      ,  0.5     ,  3.6     ],\n",
       "        [ 1.53    , 20.7     ,  0.58    ,  3.05    ],\n",
       "        [ 2.83    , 18.      ,  0.25    ,  2.15    ],\n",
       "        [ 1.99    , 18.      ,  0.17    ,  3.25    ],\n",
       "        [ 1.52    , 19.      ,  0.32    ,  2.6     ],\n",
       "        [ 2.12    , 21.5     ,  0.14    ,  2.5     ],\n",
       "        [ 1.41    , 16.      ,  0.29    ,  2.9     ],\n",
       "        [ 1.07    , 18.5     ,  0.24    ,  4.5     ],\n",
       "        [ 3.17    , 18.      ,  0.45    ,  2.3     ],\n",
       "        [ 2.08    , 17.5     ,  0.26    ,  3.3     ],\n",
       "        [ 1.34    , 18.5     ,  0.29    ,  2.45    ],\n",
       "        [ 2.45    , 21.      ,  0.34    ,  2.8     ],\n",
       "        [ 1.72    , 19.5     ,  0.37    ,  2.06    ],\n",
       "        [ 1.73    , 20.5     ,  0.32    ,  2.94    ],\n",
       "        [ 2.55    , 22.      ,  0.66    ,  2.7     ],\n",
       "        [ 1.73    , 19.      ,  0.37    ,  3.4     ],\n",
       "        [ 1.75    , 22.5     ,  0.48    ,  3.3     ],\n",
       "        [ 1.29    , 19.      ,  0.39    ,  2.7     ],\n",
       "        [ 1.35    , 20.      ,  0.29    ,  2.65    ],\n",
       "        [ 3.74    , 19.5     ,  0.24    ,  2.9     ],\n",
       "        [ 2.43    , 21.      ,  0.26    ,  2.      ],\n",
       "        [ 2.68    , 20.      ,  0.6     ,  3.8     ],\n",
       "        [ 0.74    , 21.      ,  0.42    ,  3.08    ],\n",
       "        [ 1.39    , 22.5     ,  0.43    ,  2.9     ],\n",
       "        [ 1.51    , 21.5     ,  0.52    ,  1.9     ],\n",
       "        [ 1.47    , 20.8     ,  0.3     ,  1.95    ],\n",
       "        [ 1.61    , 22.5     ,  0.34    ,  2.06    ],\n",
       "        [ 3.43    , 16.      ,  0.43    ,  3.4     ],\n",
       "        [ 3.43    , 19.      ,  0.37    ,  1.28    ],\n",
       "        [ 2.4     , 20.      ,  0.32    ,  3.25    ],\n",
       "        [ 2.05    , 28.5     ,  0.47    ,  6.      ],\n",
       "        [ 4.43    , 26.5     ,  0.43    ,  2.08    ],\n",
       "        [ 5.8     , 21.5     ,  0.3     ,  2.6     ],\n",
       "        [ 4.31    , 21.      ,  0.21    ,  2.8     ],\n",
       "        [ 2.16    , 21.      ,  0.37    ,  2.76    ],\n",
       "        [ 1.53    , 21.5     ,  0.39    ,  3.94    ],\n",
       "        [ 2.13    , 28.5     ,  0.58    ,  3.      ],\n",
       "        [ 1.63    , 24.5     ,  0.4     ,  2.12    ],\n",
       "        [ 4.3     , 22.      ,  0.42    ,  2.6     ],\n",
       "        [ 1.35    , 18.      ,  0.21    ,  4.1     ],\n",
       "        [ 2.99    , 20.      ,  0.24    ,  5.4     ],\n",
       "        [ 2.31    , 24.      ,  0.27    ,  5.7     ],\n",
       "        [ 3.55    , 21.5     ,  0.17    ,  5.      ],\n",
       "        [ 1.24    , 17.5     ,  0.6     ,  5.45    ],\n",
       "        [ 2.46    , 18.5     ,  0.63    ,  7.1     ],\n",
       "        [ 4.72    , 21.      ,  0.53    ,  3.85    ],\n",
       "        [ 5.51    , 25.      ,  0.63    ,  5.      ],\n",
       "        [ 3.59    , 19.5     ,  0.58    ,  5.7     ],\n",
       "        [ 2.96    , 24.      ,  0.53    ,  4.92    ],\n",
       "        [ 2.81    , 21.      ,  0.53    ,  4.6     ],\n",
       "        [ 2.56    , 20.      ,  0.37    ,  5.6     ],\n",
       "        [ 3.17    , 23.5     ,  0.5     ,  4.35    ],\n",
       "        [ 4.95    , 20.      ,  0.47    ,  4.4     ],\n",
       "        [ 3.88    , 18.5     ,  0.29    ,  8.21    ],\n",
       "        [ 3.57    , 21.      ,  0.43    ,  4.      ],\n",
       "        [ 5.04    , 20.      ,  0.4     ,  4.9     ],\n",
       "        [ 4.61    , 21.5     ,  0.47    ,  7.65    ],\n",
       "        [ 3.24    , 21.5     ,  0.45    ,  8.42    ],\n",
       "        [ 3.9     , 21.5     ,  0.34    ,  9.4     ],\n",
       "        [ 3.12    , 24.      ,  0.22    ,  8.6     ],\n",
       "        [ 2.67    , 22.      ,  0.24    , 10.8     ],\n",
       "        [ 1.9     , 25.5     ,  0.26    ,  7.1     ],\n",
       "        [ 3.3     , 18.5     ,  0.61    , 10.52    ],\n",
       "        [ 1.29    , 20.      ,  0.53    ,  7.6     ],\n",
       "        [ 5.19    , 22.      ,  0.61    ,  7.9     ],\n",
       "        [ 4.12    , 19.5     ,  0.48    ,  9.01    ],\n",
       "        [ 3.03    , 27.      ,  0.63    ,  7.5     ],\n",
       "        [ 1.68    , 25.      ,  0.53    , 13.      ],\n",
       "        [ 1.67    , 22.5     ,  0.52    , 11.75    ],\n",
       "        [ 3.83    , 21.      ,  0.5     ,  7.65    ],\n",
       "        [ 3.26    , 20.      ,  0.5     ,  5.88    ],\n",
       "        [ 3.27    , 22.      ,  0.6     ,  5.58    ],\n",
       "        [ 3.45    , 18.5     ,  0.4     ,  5.28    ],\n",
       "        [ 2.76    , 22.      ,  0.41    ,  9.58    ],\n",
       "        [ 4.36    , 22.5     ,  0.52    ,  6.62    ],\n",
       "        [ 3.7     , 23.      ,  0.43    , 10.68    ],\n",
       "        [ 3.37    , 19.5     ,  0.4     , 10.26    ],\n",
       "        [ 2.58    , 24.5     ,  0.39    ,  8.66    ],\n",
       "        [ 4.6     , 25.      ,  0.27    ,  8.5     ],\n",
       "        [ 3.03    , 19.      ,  0.4     ,  5.5     ],\n",
       "        [ 2.39    , 19.5     ,  0.48    ,  9.899999],\n",
       "        [ 2.51    , 20.      ,  0.44    ,  9.7     ],\n",
       "        [ 5.65    , 20.5     ,  0.52    ,  7.7     ],\n",
       "        [ 3.91    , 23.      ,  0.43    ,  7.3     ],\n",
       "        [ 4.28    , 20.      ,  0.43    , 10.2     ],\n",
       "        [ 2.59    , 20.      ,  0.53    ,  9.3     ],\n",
       "        [ 4.1     , 24.5     ,  0.56    ,  9.2     ]]),\n",
       " array([1, 1, 1, 1, 1, 1, 1, 1, 1, 1, 1, 1, 1, 1, 1, 1, 1, 1, 1, 1, 1, 1,\n",
       "        1, 1, 1, 1, 1, 1, 1, 1, 1, 1, 1, 1, 1, 1, 1, 1, 1, 1, 1, 1, 1, 1,\n",
       "        1, 1, 1, 1, 1, 1, 1, 1, 1, 1, 1, 1, 1, 1, 1, 2, 2, 2, 2, 2, 2, 2,\n",
       "        2, 2, 2, 2, 2, 2, 2, 2, 2, 2, 2, 2, 2, 2, 2, 2, 2, 2, 2, 2, 2, 2,\n",
       "        2, 2, 2, 2, 2, 2, 2, 2, 2, 2, 2, 2, 2, 2, 2, 2, 2, 2, 2, 2, 2, 2,\n",
       "        2, 2, 2, 2, 2, 2, 2, 2, 2, 2, 2, 2, 2, 2, 2, 2, 2, 2, 2, 2, 3, 3,\n",
       "        3, 3, 3, 3, 3, 3, 3, 3, 3, 3, 3, 3, 3, 3, 3, 3, 3, 3, 3, 3, 3, 3,\n",
       "        3, 3, 3, 3, 3, 3, 3, 3, 3, 3, 3, 3, 3, 3, 3, 3, 3, 3, 3, 3, 3, 3,\n",
       "        3, 3], dtype=int64))"
      ]
     },
     "execution_count": 76,
     "metadata": {},
     "output_type": "execute_result"
    }
   ],
   "source": [
    "X = df.drop(['Wine', 'Alcohol', 'Ash', 'Mg', 'Phenols', 'Flavanoids', 'Proanth', 'Hue', 'OD', 'Proline'], axis=1).values\n",
    "Y = df['Wine'].values\n",
    "\n",
    "X, Y"
   ]
  },
  {
   "cell_type": "code",
   "execution_count": 88,
   "id": "512edf3d-ca90-4286-b2fb-b5e33b49cede",
   "metadata": {},
   "outputs": [
    {
     "name": "stdout",
     "output_type": "stream",
     "text": [
      "DecisionTree  -  0.8222222222222222\n",
      "RandomForest  -  0.9333333333333333\n",
      "LogisticRegression  -  0.8222222222222222\n",
      "KNN  -  0.8666666666666667\n"
     ]
    }
   ],
   "source": [
    "from sklearn.preprocessing import StandardScaler\n",
    "# Standardize the data\n",
    "scaler = StandardScaler()\n",
    "\n",
    "X = scaler.fit_transform(X)\n",
    "X \n",
    "\n",
    "from sklearn.model_selection import train_test_split\n",
    "\n",
    "X_train, X_test, y_train, y_test = train_test_split(X, Y, test_size=0.25, random_state=42)\n",
    "\n",
    "X_train.shape, X_test.shape, y_train.shape, y_test.shape\n",
    "\n",
    "from sklearn.tree import DecisionTreeClassifier\n",
    "\n",
    "model = DecisionTreeClassifier(random_state=42)\n",
    "model.fit(X_train, y_train)\n",
    "y_pred = model.predict(X_test)\n",
    "acc = accuracy_score(y_test, y_pred)\n",
    "print(f'DecisionTree  -  {acc}')\n",
    "\n",
    "from sklearn.ensemble import RandomForestClassifier\n",
    "\n",
    "model = RandomForestClassifier(random_state=42)\n",
    "model.fit(X_train, y_train)\n",
    "y_pred = model.predict(X_test)\n",
    "acc = accuracy_score(y_test, y_pred)\n",
    "print(f'RandomForest  -  {acc}')\n",
    "\n",
    "from sklearn.linear_model import LogisticRegression\n",
    "\n",
    "model = LogisticRegression(max_iter=200, random_state=42)\n",
    "model.fit(X_train, y_train)\n",
    "y_pred = model.predict(X_test)\n",
    "acc = accuracy_score(y_test, y_pred)\n",
    "print(f'LogisticRegression  -  {acc}')\n",
    "\n",
    "from sklearn.neighbors import KNeighborsClassifier\n",
    "\n",
    "model = KNeighborsClassifier(n_neighbors=3)\n",
    "model.fit(X_train, y_train)\n",
    "y_pred = model.predict(X_test)\n",
    "acc = accuracy_score(y_test, y_pred)\n",
    "print(f'KNN  -  {acc}')"
   ]
  }
 ],
 "metadata": {
  "kernelspec": {
   "display_name": "Python [conda env:base] *",
   "language": "python",
   "name": "conda-base-py"
  },
  "language_info": {
   "codemirror_mode": {
    "name": "ipython",
    "version": 3
   },
   "file_extension": ".py",
   "mimetype": "text/x-python",
   "name": "python",
   "nbconvert_exporter": "python",
   "pygments_lexer": "ipython3",
   "version": "3.12.7"
  }
 },
 "nbformat": 4,
 "nbformat_minor": 5
}
