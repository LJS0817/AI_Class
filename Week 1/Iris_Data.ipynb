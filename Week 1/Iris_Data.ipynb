{
 "cells": [
  {
   "cell_type": "code",
   "execution_count": 1,
   "id": "b063f333-12a2-444d-a195-c8940df93520",
   "metadata": {},
   "outputs": [
    {
     "data": {
      "text/html": [
       "<div>\n",
       "<style scoped>\n",
       "    .dataframe tbody tr th:only-of-type {\n",
       "        vertical-align: middle;\n",
       "    }\n",
       "\n",
       "    .dataframe tbody tr th {\n",
       "        vertical-align: top;\n",
       "    }\n",
       "\n",
       "    .dataframe thead th {\n",
       "        text-align: right;\n",
       "    }\n",
       "</style>\n",
       "<table border=\"1\" class=\"dataframe\">\n",
       "  <thead>\n",
       "    <tr style=\"text-align: right;\">\n",
       "      <th></th>\n",
       "      <th>SepalLength</th>\n",
       "      <th>SepalWidth</th>\n",
       "      <th>PetalLength</th>\n",
       "      <th>PetalWidth</th>\n",
       "      <th>Name</th>\n",
       "    </tr>\n",
       "  </thead>\n",
       "  <tbody>\n",
       "    <tr>\n",
       "      <th>0</th>\n",
       "      <td>5.1</td>\n",
       "      <td>3.5</td>\n",
       "      <td>1.4</td>\n",
       "      <td>0.2</td>\n",
       "      <td>Iris-setosa</td>\n",
       "    </tr>\n",
       "    <tr>\n",
       "      <th>1</th>\n",
       "      <td>4.9</td>\n",
       "      <td>3.0</td>\n",
       "      <td>1.4</td>\n",
       "      <td>0.2</td>\n",
       "      <td>Iris-setosa</td>\n",
       "    </tr>\n",
       "    <tr>\n",
       "      <th>2</th>\n",
       "      <td>4.7</td>\n",
       "      <td>3.2</td>\n",
       "      <td>1.3</td>\n",
       "      <td>0.2</td>\n",
       "      <td>Iris-setosa</td>\n",
       "    </tr>\n",
       "    <tr>\n",
       "      <th>3</th>\n",
       "      <td>4.6</td>\n",
       "      <td>3.1</td>\n",
       "      <td>1.5</td>\n",
       "      <td>0.2</td>\n",
       "      <td>Iris-setosa</td>\n",
       "    </tr>\n",
       "    <tr>\n",
       "      <th>4</th>\n",
       "      <td>5.0</td>\n",
       "      <td>3.6</td>\n",
       "      <td>1.4</td>\n",
       "      <td>0.2</td>\n",
       "      <td>Iris-setosa</td>\n",
       "    </tr>\n",
       "  </tbody>\n",
       "</table>\n",
       "</div>"
      ],
      "text/plain": [
       "   SepalLength  SepalWidth  PetalLength  PetalWidth         Name\n",
       "0          5.1         3.5          1.4         0.2  Iris-setosa\n",
       "1          4.9         3.0          1.4         0.2  Iris-setosa\n",
       "2          4.7         3.2          1.3         0.2  Iris-setosa\n",
       "3          4.6         3.1          1.5         0.2  Iris-setosa\n",
       "4          5.0         3.6          1.4         0.2  Iris-setosa"
      ]
     },
     "execution_count": 1,
     "metadata": {},
     "output_type": "execute_result"
    }
   ],
   "source": [
    "import pandas as pd\n",
    "\n",
    "# 붓꽃 데이터 CSV 파일 읽기\n",
    "file_path = \"C:/Users/admin/Desktop/Homework/AI/AI_Class/Data/iris.csv\"  # 본인이 iris.csv를 저장한 경로를 입력합니다.\n",
    "df = pd.read_csv(file_path)\n",
    "\n",
    "# 데이터프레임 확인\n",
    "df.head()\n",
    "# df.columns"
   ]
  },
  {
   "cell_type": "code",
   "execution_count": 2,
   "id": "ba5383b1-1694-48a5-aec7-55070adbe717",
   "metadata": {},
   "outputs": [],
   "source": [
    "import pandas as pd\n",
    "from sklearn.model_selection import train_test_split\n",
    "from sklearn.tree import DecisionTreeClassifier\n",
    "from sklearn.ensemble import RandomForestClassifier\n",
    "from sklearn.svm import SVC\n",
    "from sklearn.linear_model import LogisticRegression\n",
    "from sklearn.metrics import accuracy_score"
   ]
  },
  {
   "cell_type": "code",
   "execution_count": 16,
   "id": "ea6ed91b-e722-4290-83fb-509813bfa8b0",
   "metadata": {},
   "outputs": [
    {
     "name": "stdout",
     "output_type": "stream",
     "text": [
      "     SepalLength  SepalWidth  PetalLength  PetalWidth\n",
      "0            5.1         3.5          1.4         0.2\n",
      "1            4.9         3.0          1.4         0.2\n",
      "2            4.7         3.2          1.3         0.2\n",
      "3            4.6         3.1          1.5         0.2\n",
      "4            5.0         3.6          1.4         0.2\n",
      "..           ...         ...          ...         ...\n",
      "145          6.7         3.0          5.2         2.3\n",
      "146          6.3         2.5          5.0         1.9\n",
      "147          6.5         3.0          5.2         2.0\n",
      "148          6.2         3.4          5.4         2.3\n",
      "149          5.9         3.0          5.1         1.8\n",
      "\n",
      "[150 rows x 4 columns]\n",
      "0         Iris-setosa\n",
      "1         Iris-setosa\n",
      "2         Iris-setosa\n",
      "3         Iris-setosa\n",
      "4         Iris-setosa\n",
      "            ...      \n",
      "145    Iris-virginica\n",
      "146    Iris-virginica\n",
      "147    Iris-virginica\n",
      "148    Iris-virginica\n",
      "149    Iris-virginica\n",
      "Name: Name, Length: 150, dtype: object\n"
     ]
    }
   ],
   "source": [
    "random = 11\n",
    "\n",
    "file_path = \"C:/Users/admin/Desktop/Homework/AI/AI_Class/Data/iris.csv\"\n",
    "data = pd.read_csv(file_path)\n",
    "X = data.drop('Name', axis=1) #Name 특성을 버린 나머지 특성을 학습시켜 \n",
    "y = data['Name']              #Name을 결과로 얻을 수 있게 설정\n",
    "\n",
    "print(X)\n",
    "print(y)"
   ]
  },
  {
   "cell_type": "code",
   "execution_count": 23,
   "id": "e46b5199-6aa0-4034-9201-f5ef633de952",
   "metadata": {},
   "outputs": [],
   "source": [
    "# 데이터셋을 학습 세트와 테스트 세트로 분리\n",
    "# X_train, X_test, y_train, y_test = train_test_split(X, y, test_size=0.3)\n",
    "X_train, X_test, y_train, y_test = train_test_split(X, y, test_size=0.3, random_state=random)"
   ]
  },
  {
   "cell_type": "markdown",
   "id": "56980224-7844-4b12-9203-272a4c4c1b68",
   "metadata": {},
   "source": [
    "train_test_split(특성 데이터, 정답 데이터, 0 ~ 1 학습 데이터와 테스트 데이터 비율, 무작위성 제어 정수값)"
   ]
  },
  {
   "cell_type": "code",
   "execution_count": 21,
   "id": "36148f1a-4a3b-4edb-911e-3358e7bc07f1",
   "metadata": {},
   "outputs": [
    {
     "name": "stdout",
     "output_type": "stream",
     "text": [
      "Decision Tree: Accuracy = 0.9111\n",
      "Random Forest: Accuracy = 0.9111\n",
      "SVM: Accuracy = 0.9333\n",
      "Logistic Regression: Accuracy = 0.9333\n"
     ]
    }
   ],
   "source": [
    "# # Decision Tree 모델\n",
    "# dt_model = DecisionTreeClassifier(random_state=random)\n",
    "# dt_model.fit(X_train, y_train)\n",
    "# dt_pred = dt_model.predict(X_test)\n",
    "# dt_accuracy = accuracy_score(y_test, dt_pred)\n",
    "# print(f\"Decision Tree Accuracy: {dt_accuracy:.4f}\")\n",
    "\n",
    "# # Random Forest 모델\n",
    "# rf_model = RandomForestClassifier(random_state=random)\n",
    "# rf_model.fit(X_train, y_train)\n",
    "# rf_pred = rf_model.predict(X_test)\n",
    "# rf_accuracy = accuracy_score(y_test, rf_pred)\n",
    "# print(f\"Random Forest Accuracy: {rf_accuracy:.4f}\")\n",
    "\n",
    "# # SVM 모델\n",
    "# svm_model = SVC(random_state=random)\n",
    "# svm_model.fit(X_train, y_train)\n",
    "# svm_pred = svm_model.predict(X_test)\n",
    "# svm_accuracy = accuracy_score(y_test, svm_pred)\n",
    "# print(f\"SVM Accuracy: {svm_accuracy:.4f}\")\n",
    "\n",
    "# # Logistic Regression 모델\n",
    "# lr_model = LogisticRegression(max_iter=200, random_state=random)\n",
    "# lr_model.fit(X_train, y_train)\n",
    "# lr_pred = lr_model.predict(X_test)\n",
    "# lr_accuracy = accuracy_score(y_test, lr_pred)\n",
    "# print(f\"Logistic Regression Accuracy: {lr_accuracy:.4f}\")\n",
    "\n",
    "# 모델들 정의\n",
    "# models = {\n",
    "#     'Decision Tree': DecisionTreeClassifier(),\n",
    "#     'Random Forest': RandomForestClassifier(),\n",
    "#     'SVM': SVC(),\n",
    "#     'Logistic Regression': LogisticRegression(max_iter=200)\n",
    "# }\n",
    "models = {\n",
    "    'Decision Tree': DecisionTreeClassifier(random_state=random),\n",
    "    'Random Forest': RandomForestClassifier(random_state=random),\n",
    "    'SVM': SVC(random_state=random),\n",
    "    'Logistic Regression': LogisticRegression(random_state=random, max_iter=200)\n",
    "}\n",
    "\n",
    "# 모델 학습 및 예측, 결과 출력\n",
    "for model_name, model in models.items():\n",
    "    model.fit(X_train, y_train)\n",
    "    y_pred = model.predict(X_test)\n",
    "    accuracy = accuracy_score(y_test, y_pred)\n",
    "    print(f\"{model_name}: Accuracy = {accuracy:.4f}\")"
   ]
  },
  {
   "cell_type": "markdown",
   "id": "76886bcc-58af-46d8-989a-d44c2642c0b5",
   "metadata": {},
   "source": [
    "---\n",
    "* fit(학습 특성_Feature, 학습 결과_target)으로 서로의 관계 학습\n",
    "* predict(테스트 특성_Feature)로 테스트 데이터에 대해서 예측 수행 후 예측 결과 반환 -fit 이후에 호출\n",
    "* accuracy_score(실제 결과_test_result, 예측 결과_predict_result)로 예측 결과와 실제 정답을 비교 == 모델의 예측 성능 평가\n",
    "---\n",
    "- random_state나 test_size의 값을 변경 시 결과에 영향을 줌\n",
    "- random_state => 데이터를 학습용과 테스트용으로 분할할 때 무작위로 데이터를 섞는 과정을 제어\n",
    "- random_state 값을 유지하면 계속 같은 결과 값이 나옴\n",
    "- 설정하지 않으면 계속 값이 달라짐\n",
    "- 모델의 성능을 평가할 때, 여러 개의 random_state 값을 사용하여 결과를 평균내는 것이 좋다고 한다."
   ]
  },
  {
   "cell_type": "code",
   "execution_count": null,
   "id": "95f9b9bd-e6e1-4e82-8c55-24e87fc4c121",
   "metadata": {},
   "outputs": [],
   "source": []
  }
 ],
 "metadata": {
  "kernelspec": {
   "display_name": "Python [conda env:base] *",
   "language": "python",
   "name": "conda-base-py"
  },
  "language_info": {
   "codemirror_mode": {
    "name": "ipython",
    "version": 3
   },
   "file_extension": ".py",
   "mimetype": "text/x-python",
   "name": "python",
   "nbconvert_exporter": "python",
   "pygments_lexer": "ipython3",
   "version": "3.12.7"
  }
 },
 "nbformat": 4,
 "nbformat_minor": 5
}
