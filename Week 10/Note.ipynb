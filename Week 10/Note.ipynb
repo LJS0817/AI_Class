{
 "cells": [
  {
   "cell_type": "markdown",
   "id": "eac88766-6be9-4aa6-b115-6e7411a2ab1f",
   "metadata": {},
   "source": [
    "\n",
    "    데이터 부족\n",
    "        레이블이 없는 데이터가 부족\n",
    "        => 한정된 데이터에서 여러 가지로 변형하여 새로운 데이터를 만들어 냄\n",
    "        => 데이터 증대 \n",
    "        => 데이터의 다양성이 없어짐\n",
    "\n",
    "    전이 학습 ( Transfer Learning | Pretrained Network )\n",
    "        이미 구축되어 있는 모델을 사용하여 새로이 학습 시킴\n",
    "            => 검증되어 있는 모델을 활용 가능\n",
    "            => 학습 시간 단축 가능\n",
    "        \n",
    "\n",
    "    사전 학습 ( Pretrained Network )\n",
    "        이미 구축되어 있는 모델을 사용하여 새로이 레이어를 추가 후 학습 시킴\n",
    "        이미 구축되어 있는 레이어들은 훈련시키지 않음\n",
    "            => 검증되어 있는 모델을 활용 가능\n",
    "            => 학습 시간 단축 가능\n",
    "\n",
    "    미세 조정 ( Fine-Tuning )\n",
    "        전체 모델을 훈련하여 설정되어 있는 값들을 조정\n",
    "        이미 최적화되어 있기에 조정이 조금 이루어짐"
   ]
  }
 ],
 "metadata": {
  "kernelspec": {
   "display_name": "Python [conda env:base] *",
   "language": "python",
   "name": "conda-base-py"
  },
  "language_info": {
   "codemirror_mode": {
    "name": "ipython",
    "version": 3
   },
   "file_extension": ".py",
   "mimetype": "text/x-python",
   "name": "python",
   "nbconvert_exporter": "python",
   "pygments_lexer": "ipython3",
   "version": "3.12.7"
  }
 },
 "nbformat": 4,
 "nbformat_minor": 5
}
