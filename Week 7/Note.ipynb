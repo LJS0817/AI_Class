{
 "cells": [
  {
   "cell_type": "markdown",
   "id": "1312c98d-40e6-4cd5-97a5-0b4d7a411c59",
   "metadata": {},
   "source": []
  },
  {
   "cell_type": "markdown",
   "id": "bcb20250-9219-4883-8532-dde5f732c565",
   "metadata": {},
   "source": [
    "---\n",
    "\n",
    "    FAQ\n",
    "    규제와 스케일링\n",
    "    가중치와 바이어스\n",
    "    선형 회귀\n",
    "    경사하강법\n",
    "    지도학습 비지도학습\n",
    "    혼동행렬\n",
    "    손실함수\n",
    "    오버피팅 언더피팅\n",
    "    활성화 함수\n",
    "    P.202, P215\n",
    "    P246 ~ch6"
   ]
  }
 ],
 "metadata": {
  "kernelspec": {
   "display_name": "",
   "name": ""
  },
  "language_info": {
   "name": ""
  }
 },
 "nbformat": 4,
 "nbformat_minor": 5
}
