{
 "cells": [
  {
   "cell_type": "markdown",
   "id": "7d684ae1-2afa-45fd-99cd-45cdec7a96ec",
   "metadata": {},
   "source": [
    "<pre>\n",
    "csv 파일에서 컬럼명이 없을 경우 첫 번째 데이터를 컬럼명으로 인식시키지 않기 위한 코드\n",
    "pd.read_csv(file_path, header=None)\n",
    "\n",
    "데이터프레임에 컬럼명 추가\n",
    "df.columns = ['buying', 'maint', 'doors', 'persons', 'lug_boot', 'safety', 'class']\n",
    "\n",
    "\n",
    "values -> dataframe에서 numpy로 변환\n",
    "df.drop().values\n",
    "df[].values\n",
    "\n",
    "결측치 + 레이블 확인\n",
    "\n",
    "스케일러\n",
    "\n",
    "train_test_split() 호출 이후 변수에 넣고\n",
    "x_train.shape와 같이 .shape로 (개수, 사이즈) 개수 확인 사이즈가 1 일 경우 공백\n",
    "</pre>"
   ]
  },
  {
   "cell_type": "markdown",
   "id": "7cbbd861-e61c-4b29-88e3-7f3d36d0310e",
   "metadata": {},
   "source": [
    "confuse matrix를 보면  어떠한 레이블, 클래스를 잘 맞추었나 맞추지 못하였나를 알 수 있다.\n",
    "\n",
    "정답 레이블 / 전체 레이블 => Accuracy\n",
    "               \n",
    "                O => 정답  X => 오답\n",
    "\n",
    "<pre>\n",
    "[[O, X, X, X]\n",
    " [X, O, X, X]\n",
    " [X, X, O, X]\n",
    " [X, X, X, O]]</pre>"
   ]
  },
  {
   "cell_type": "markdown",
   "id": "2bf52ec5-fabc-4827-9743-10626627d878",
   "metadata": {},
   "source": [
    "***Classification - 분류***\n",
    "범주형 - 레이블 간 연관이 없음\n",
    "\n",
    "***Regression - 회귀***\n",
    "연속적 - 레이블 간 연관이 있음\n",
    "\n",
    "실제 값과 예측 값의 차이 mean_square_error\n",
    "\n",
    "Feature Selection -> 불필요한 특성을 버리고 중요한 특성을 선택하여 학습에 사용\n",
    "\n",
    "상관관계 0 ~ 1<br>"
   ]
  },
  {
   "cell_type": "markdown",
   "id": "883dfbe2-87e3-4075-ba14-4e209e341788",
   "metadata": {},
   "source": [
    "***샘플링과 편향***\n",
    "<pre>\n",
    "    편향이란 결과 데이터가 비교적 많은 쪽에 예측 결과가 치우치는 현상\n",
    "    소수의 의견을 잘 반영하지 못함\n",
    "\n",
    "데이터 수집\n",
    "전처리 == 결측치 처리, 스케일링, ... => 모델에 훈련하기 전에 데이터의 품질을 높이는 과정\n",
    "모델 훈련\n",
    "평가\n",
    "\n",
    "스케일링 - 특성의 단위(크기)를 맞추는 과정\n",
    "StandardScaler - 0 ~ 1 사이로 값을 맞춤 - (입력값) - (평균)) / (분포\n",
    "</pre>\n"
   ]
  }
 ],
 "metadata": {
  "kernelspec": {
   "display_name": "Python [conda env:base] *",
   "language": "python",
   "name": "conda-base-py"
  },
  "language_info": {
   "codemirror_mode": {
    "name": "ipython",
    "version": 3
   },
   "file_extension": ".py",
   "mimetype": "text/x-python",
   "name": "python",
   "nbconvert_exporter": "python",
   "pygments_lexer": "ipython3",
   "version": "3.12.7"
  }
 },
 "nbformat": 4,
 "nbformat_minor": 5
}
