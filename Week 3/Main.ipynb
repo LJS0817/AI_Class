{
 "cells": [
  {
   "cell_type": "markdown",
   "id": "a40d679f-3ae2-413b-92b0-38fc1c40a328",
   "metadata": {},
   "source": [
    "***Pandas로 CSV 파일 불러오기***\n",
    "<pre>\n",
    "read_csv(..., header = None)으로 첫번째 데이터가 데이터프레임 컬럼명이 되지 않게 만들 수 있다.\n",
    "\n",
    "컬럼명을 추가하려면 수에 맞게 배열로 추가해주면 된다.\n",
    "    수가 맞지 않으면 에러 발\n",
    "DataFrame.columns = [Column_Name_String_List]\n",
    "</pre>"
   ]
  },
  {
   "cell_type": "code",
   "execution_count": 10,
   "id": "ced587ac-d4da-4b3f-ab9a-1b3bf2e628cc",
   "metadata": {},
   "outputs": [
    {
     "data": {
      "text/html": [
       "<div>\n",
       "<style scoped>\n",
       "    .dataframe tbody tr th:only-of-type {\n",
       "        vertical-align: middle;\n",
       "    }\n",
       "\n",
       "    .dataframe tbody tr th {\n",
       "        vertical-align: top;\n",
       "    }\n",
       "\n",
       "    .dataframe thead th {\n",
       "        text-align: right;\n",
       "    }\n",
       "</style>\n",
       "<table border=\"1\" class=\"dataframe\">\n",
       "  <thead>\n",
       "    <tr style=\"text-align: right;\">\n",
       "      <th></th>\n",
       "      <th>buying</th>\n",
       "      <th>maint</th>\n",
       "      <th>doors</th>\n",
       "      <th>persons</th>\n",
       "      <th>lug_boot</th>\n",
       "      <th>safety</th>\n",
       "      <th>class</th>\n",
       "    </tr>\n",
       "  </thead>\n",
       "  <tbody>\n",
       "    <tr>\n",
       "      <th>0</th>\n",
       "      <td>vhigh</td>\n",
       "      <td>vhigh</td>\n",
       "      <td>2</td>\n",
       "      <td>2</td>\n",
       "      <td>small</td>\n",
       "      <td>low</td>\n",
       "      <td>unacc</td>\n",
       "    </tr>\n",
       "    <tr>\n",
       "      <th>1</th>\n",
       "      <td>vhigh</td>\n",
       "      <td>vhigh</td>\n",
       "      <td>2</td>\n",
       "      <td>2</td>\n",
       "      <td>small</td>\n",
       "      <td>med</td>\n",
       "      <td>unacc</td>\n",
       "    </tr>\n",
       "    <tr>\n",
       "      <th>2</th>\n",
       "      <td>vhigh</td>\n",
       "      <td>vhigh</td>\n",
       "      <td>2</td>\n",
       "      <td>2</td>\n",
       "      <td>small</td>\n",
       "      <td>high</td>\n",
       "      <td>unacc</td>\n",
       "    </tr>\n",
       "    <tr>\n",
       "      <th>3</th>\n",
       "      <td>vhigh</td>\n",
       "      <td>vhigh</td>\n",
       "      <td>2</td>\n",
       "      <td>2</td>\n",
       "      <td>med</td>\n",
       "      <td>low</td>\n",
       "      <td>unacc</td>\n",
       "    </tr>\n",
       "    <tr>\n",
       "      <th>4</th>\n",
       "      <td>vhigh</td>\n",
       "      <td>vhigh</td>\n",
       "      <td>2</td>\n",
       "      <td>2</td>\n",
       "      <td>med</td>\n",
       "      <td>med</td>\n",
       "      <td>unacc</td>\n",
       "    </tr>\n",
       "    <tr>\n",
       "      <th>...</th>\n",
       "      <td>...</td>\n",
       "      <td>...</td>\n",
       "      <td>...</td>\n",
       "      <td>...</td>\n",
       "      <td>...</td>\n",
       "      <td>...</td>\n",
       "      <td>...</td>\n",
       "    </tr>\n",
       "    <tr>\n",
       "      <th>1723</th>\n",
       "      <td>low</td>\n",
       "      <td>low</td>\n",
       "      <td>5more</td>\n",
       "      <td>more</td>\n",
       "      <td>med</td>\n",
       "      <td>med</td>\n",
       "      <td>good</td>\n",
       "    </tr>\n",
       "    <tr>\n",
       "      <th>1724</th>\n",
       "      <td>low</td>\n",
       "      <td>low</td>\n",
       "      <td>5more</td>\n",
       "      <td>more</td>\n",
       "      <td>med</td>\n",
       "      <td>high</td>\n",
       "      <td>vgood</td>\n",
       "    </tr>\n",
       "    <tr>\n",
       "      <th>1725</th>\n",
       "      <td>low</td>\n",
       "      <td>low</td>\n",
       "      <td>5more</td>\n",
       "      <td>more</td>\n",
       "      <td>big</td>\n",
       "      <td>low</td>\n",
       "      <td>unacc</td>\n",
       "    </tr>\n",
       "    <tr>\n",
       "      <th>1726</th>\n",
       "      <td>low</td>\n",
       "      <td>low</td>\n",
       "      <td>5more</td>\n",
       "      <td>more</td>\n",
       "      <td>big</td>\n",
       "      <td>med</td>\n",
       "      <td>good</td>\n",
       "    </tr>\n",
       "    <tr>\n",
       "      <th>1727</th>\n",
       "      <td>low</td>\n",
       "      <td>low</td>\n",
       "      <td>5more</td>\n",
       "      <td>more</td>\n",
       "      <td>big</td>\n",
       "      <td>high</td>\n",
       "      <td>vgood</td>\n",
       "    </tr>\n",
       "  </tbody>\n",
       "</table>\n",
       "<p>1728 rows × 7 columns</p>\n",
       "</div>"
      ],
      "text/plain": [
       "     buying  maint  doors persons lug_boot safety  class\n",
       "0     vhigh  vhigh      2       2    small    low  unacc\n",
       "1     vhigh  vhigh      2       2    small    med  unacc\n",
       "2     vhigh  vhigh      2       2    small   high  unacc\n",
       "3     vhigh  vhigh      2       2      med    low  unacc\n",
       "4     vhigh  vhigh      2       2      med    med  unacc\n",
       "...     ...    ...    ...     ...      ...    ...    ...\n",
       "1723    low    low  5more    more      med    med   good\n",
       "1724    low    low  5more    more      med   high  vgood\n",
       "1725    low    low  5more    more      big    low  unacc\n",
       "1726    low    low  5more    more      big    med   good\n",
       "1727    low    low  5more    more      big   high  vgood\n",
       "\n",
       "[1728 rows x 7 columns]"
      ]
     },
     "execution_count": 10,
     "metadata": {},
     "output_type": "execute_result"
    }
   ],
   "source": [
    "import pandas as pd\n",
    "\n",
    "df = pd.read_csv(\"C:/Users/admin/Desktop//Homework/AI/AI_Class/Data/car_evaluation.csv\", header=None)\n",
    "df.columns = ['buying', 'maint', 'doors', 'persons', 'lug_boot', 'safety', 'class']\n",
    "df"
   ]
  },
  {
   "cell_type": "markdown",
   "id": "65cf9c78-554c-4fac-8359-846dc39eab8a",
   "metadata": {},
   "source": [
    "---\n",
    "***데이터 확인***\n",
    "<pre>\n",
    "컬럼명 확인은 DataFrame.columns \n",
    "</pre>"
   ]
  },
  {
   "cell_type": "code",
   "execution_count": 13,
   "id": "0ba0de89-e962-49bd-8477-192e00a5beda",
   "metadata": {},
   "outputs": [
    {
     "data": {
      "text/plain": [
       "Index(['buying', 'maint', 'doors', 'persons', 'lug_boot', 'safety', 'class'], dtype='object')"
      ]
     },
     "execution_count": 13,
     "metadata": {},
     "output_type": "execute_result"
    }
   ],
   "source": [
    "df.columns"
   ]
  },
  {
   "cell_type": "markdown",
   "id": "f40b6f12-b598-4bf8-8601-6aaf52a54ed4",
   "metadata": {},
   "source": [
    "<pre>\n",
    "결측치 확인은 DataFrame.(isnull() or isna()).sum()\n",
    "</pre>"
   ]
  },
  {
   "cell_type": "code",
   "execution_count": 16,
   "id": "3571c138-6f53-48db-974f-7e11a657ec3f",
   "metadata": {},
   "outputs": [
    {
     "data": {
      "text/plain": [
       "buying      0\n",
       "maint       0\n",
       "doors       0\n",
       "persons     0\n",
       "lug_boot    0\n",
       "safety      0\n",
       "class       0\n",
       "dtype: int64"
      ]
     },
     "execution_count": 16,
     "metadata": {},
     "output_type": "execute_result"
    }
   ],
   "source": [
    "label = 'class'\n",
    "df.isnull().sum()"
   ]
  },
  {
   "cell_type": "markdown",
   "id": "3850a381-2788-443c-965d-99caf577aaa9",
   "metadata": {},
   "source": [
    "<pre>\n",
    "특정 컬럼의 데이터 수 확인은 DataFrame['column name'].value_counts()\n",
    "</pre>"
   ]
  },
  {
   "cell_type": "code",
   "execution_count": 19,
   "id": "4c08939a-c765-4a43-bf67-e06b4399996f",
   "metadata": {},
   "outputs": [
    {
     "data": {
      "text/plain": [
       "class\n",
       "unacc    1210\n",
       "acc       384\n",
       "good       69\n",
       "vgood      65\n",
       "Name: count, dtype: int64"
      ]
     },
     "execution_count": 19,
     "metadata": {},
     "output_type": "execute_result"
    }
   ],
   "source": [
    "df[label].value_counts()"
   ]
  },
  {
   "cell_type": "markdown",
   "id": "090c0bf6-d335-4e85-813d-6280899ca1b6",
   "metadata": {},
   "source": [
    "<pre>\n",
    "DataFrame.values나 DataFrame.to_numpy()로 데이터프레임을 배열 형태로 변환할 수 있다.\n",
    "</pre>"
   ]
  },
  {
   "cell_type": "code",
   "execution_count": 22,
   "id": "c1ec8060-aed0-4dd6-8b27-4e0e6b0b26d4",
   "metadata": {},
   "outputs": [
    {
     "data": {
      "text/plain": [
       "array([['vhigh', 'vhigh', '2', ..., 'small', 'low', 'unacc'],\n",
       "       ['vhigh', 'vhigh', '2', ..., 'small', 'med', 'unacc'],\n",
       "       ['vhigh', 'vhigh', '2', ..., 'small', 'high', 'unacc'],\n",
       "       ...,\n",
       "       ['low', 'low', '5more', ..., 'big', 'low', 'unacc'],\n",
       "       ['low', 'low', '5more', ..., 'big', 'med', 'good'],\n",
       "       ['low', 'low', '5more', ..., 'big', 'high', 'vgood']], dtype=object)"
      ]
     },
     "execution_count": 22,
     "metadata": {},
     "output_type": "execute_result"
    }
   ],
   "source": [
    "df.values"
   ]
  },
  {
   "cell_type": "code",
   "execution_count": 24,
   "id": "d2dbc065-4a97-4f7f-a13f-6e7599d0c78b",
   "metadata": {},
   "outputs": [
    {
     "data": {
      "text/plain": [
       "array([['vhigh', 'vhigh', '2', ..., 'small', 'low', 'unacc'],\n",
       "       ['vhigh', 'vhigh', '2', ..., 'small', 'med', 'unacc'],\n",
       "       ['vhigh', 'vhigh', '2', ..., 'small', 'high', 'unacc'],\n",
       "       ...,\n",
       "       ['low', 'low', '5more', ..., 'big', 'low', 'unacc'],\n",
       "       ['low', 'low', '5more', ..., 'big', 'med', 'good'],\n",
       "       ['low', 'low', '5more', ..., 'big', 'high', 'vgood']], dtype=object)"
      ]
     },
     "execution_count": 24,
     "metadata": {},
     "output_type": "execute_result"
    }
   ],
   "source": [
    "df.to_numpy()"
   ]
  },
  {
   "cell_type": "markdown",
   "id": "e62d0e2d-7662-4be6-8e6c-ee04e195b5c2",
   "metadata": {},
   "source": [
    "---\n",
    "***데이터 변환***\n",
    "<pre>\n",
    "문자열을 입력받지 못하기에 각 데이터의 값을 숫자로 바꿔주어야 한다.\n",
    "잘 변환이 되었는지 value_counts로 확인한다.\n",
    "</pre>"
   ]
  },
  {
   "cell_type": "code",
   "execution_count": 27,
   "id": "aff57811-53d4-4d44-8edd-2797203916e2",
   "metadata": {},
   "outputs": [
    {
     "data": {
      "text/plain": [
       "class\n",
       "2    1210\n",
       "0     384\n",
       "1      69\n",
       "3      65\n",
       "Name: count, dtype: int64"
      ]
     },
     "execution_count": 27,
     "metadata": {},
     "output_type": "execute_result"
    }
   ],
   "source": [
    "# Label을 숫자로 변환\n",
    "from sklearn.preprocessing import LabelEncoder\n",
    "label_encoder = LabelEncoder()\n",
    "\n",
    "for col in df.columns :\n",
    "    df[col] = label_encoder.fit_transform(df[col])\n",
    "\n",
    "df['class'].value_counts()"
   ]
  },
  {
   "cell_type": "markdown",
   "id": "c500c5a3-9303-488e-b92b-ee354474cb5a",
   "metadata": {},
   "source": [
    "<pre>\n",
    "변환한 후에 \n",
    "    X  =>  DataFrame.drop('column name', axis=1).values\n",
    "    Y  =>  DataFrame['column name'].values\n",
    "    로 나누어 준다.\n",
    "</pre>"
   ]
  },
  {
   "cell_type": "code",
   "execution_count": 30,
   "id": "4b8295aa-ec4c-4ca7-9d38-ec4e7c46d015",
   "metadata": {},
   "outputs": [
    {
     "data": {
      "text/plain": [
       "(array([[3, 3, 0, 0, 2, 1],\n",
       "        [3, 3, 0, 0, 2, 2],\n",
       "        [3, 3, 0, 0, 2, 0],\n",
       "        ...,\n",
       "        [1, 1, 3, 2, 0, 1],\n",
       "        [1, 1, 3, 2, 0, 2],\n",
       "        [1, 1, 3, 2, 0, 0]]),\n",
       " array([2, 2, 2, ..., 2, 1, 3]))"
      ]
     },
     "execution_count": 30,
     "metadata": {},
     "output_type": "execute_result"
    }
   ],
   "source": [
    "X = df.drop('class', axis=1).values\n",
    "Y = df['class'].values\n",
    "\n",
    "X, Y"
   ]
  },
  {
   "cell_type": "markdown",
   "id": "4b972e3c-14b0-4e11-825a-a1831b81c894",
   "metadata": {},
   "source": [
    "<pre>\n",
    "변환 후에 학습 데이터와 테스트 데이터를 나누고 \n",
    "    Data.shape로 개수를 확인한다.\n",
    "    스케일링이 필요하다면 수행한다\n",
    "</pre>"
   ]
  },
  {
   "cell_type": "code",
   "execution_count": 33,
   "id": "64429fbf-d312-4eaa-b08f-b5e0bcb946df",
   "metadata": {},
   "outputs": [
    {
     "data": {
      "text/plain": [
       "((1209, 6), (519, 6), (1209,), (519,))"
      ]
     },
     "execution_count": 33,
     "metadata": {},
     "output_type": "execute_result"
    }
   ],
   "source": [
    "from sklearn.model_selection import train_test_split\n",
    "\n",
    "X_train, X_test, y_train, y_test = train_test_split(X, Y, test_size=0.3, random_state=42)\n",
    "\n",
    "X_train.shape, X_test.shape, y_train.shape, y_test.shape"
   ]
  },
  {
   "cell_type": "code",
   "execution_count": 90,
   "id": "98b0d674-f940-4e21-9d76-2de9c2ceae75",
   "metadata": {},
   "outputs": [],
   "source": [
    "from sklearn.preprocessing import StandardScaler\n",
    "# Standardize the data\n",
    "scaler = StandardScaler()\n",
    "X_train = scaler.fit_transform(X_train)\n",
    "X_test = scaler.transform(X_test)"
   ]
  },
  {
   "cell_type": "markdown",
   "id": "df3221b2-72a3-4b30-b788-3fdad56ebef9",
   "metadata": {},
   "source": [
    "---\n",
    "***Classification - 분류***\n",
    "<pre>\n",
    "분류는 Accuracy를 가지고 성능을 평가한다.\n",
    "    accuracy_score(y_true, y_pred, ...)\n",
    "    예측한 값과 실제 값을 비교하여 결과를 리턴한다.\n",
    "        (예측 성공한 값의 수) / (테스트 데이터 수)\n",
    "</pre>"
   ]
  },
  {
   "cell_type": "code",
   "execution_count": 38,
   "id": "6938d606-ba25-42fc-b72b-2e3b293e90ea",
   "metadata": {},
   "outputs": [],
   "source": [
    "from sklearn.metrics import accuracy_score"
   ]
  },
  {
   "cell_type": "markdown",
   "id": "375c9ec7-4f63-419b-9671-5c13307e6884",
   "metadata": {},
   "source": [
    "<pre>\n",
    "DecisionTreeClassifier\n",
    "    의사결정트리\n",
    "</pre>"
   ]
  },
  {
   "cell_type": "code",
   "execution_count": 41,
   "id": "044ad867-c8c5-4603-a81e-3049cde1daa2",
   "metadata": {},
   "outputs": [
    {
     "name": "stdout",
     "output_type": "stream",
     "text": [
      "DecisionTree  -  0.9710982658959537\n"
     ]
    }
   ],
   "source": [
    "from sklearn.tree import DecisionTreeClassifier\n",
    "\n",
    "model = DecisionTreeClassifier(random_state=42)\n",
    "model.fit(X_train, y_train)\n",
    "y_pred = model.predict(X_test)\n",
    "acc = accuracy_score(y_test, y_pred)\n",
    "print(f'DecisionTree  -  {acc}')"
   ]
  },
  {
   "cell_type": "markdown",
   "id": "c98ede9b-affe-4db7-a96f-f700001a2780",
   "metadata": {},
   "source": [
    "<pre>\n",
    "RandomForestClassifier\n",
    "    램덤 포레스트\n",
    "        의사결정트리를 앙상블\n",
    "</pre>"
   ]
  },
  {
   "cell_type": "code",
   "execution_count": 44,
   "id": "9d398288-72b0-460d-a2fc-ac53b9d1c5fb",
   "metadata": {},
   "outputs": [
    {
     "name": "stdout",
     "output_type": "stream",
     "text": [
      "RandomForest  -  0.9672447013487476\n"
     ]
    }
   ],
   "source": [
    "from sklearn.ensemble import RandomForestClassifier\n",
    "\n",
    "model = RandomForestClassifier(random_state=42)\n",
    "model.fit(X_train, y_train)\n",
    "y_pred = model.predict(X_test)\n",
    "acc = accuracy_score(y_test, y_pred)\n",
    "print(f'RandomForest  -  {acc}')"
   ]
  },
  {
   "cell_type": "markdown",
   "id": "39001540-cd32-4c9b-a09f-ce082f031ee4",
   "metadata": {},
   "source": [
    "<pre>\n",
    "Support Vector Machine ( SVM )\n",
    "    서포트 벡터 머신\n",
    "</pre>"
   ]
  },
  {
   "cell_type": "code",
   "execution_count": 46,
   "id": "d9b882e2-7fd4-4314-8c5f-b2075e025b18",
   "metadata": {},
   "outputs": [
    {
     "name": "stdout",
     "output_type": "stream",
     "text": [
      "SVM  -  0.9132947976878613\n"
     ]
    }
   ],
   "source": [
    "from sklearn.svm import SVC\n",
    "\n",
    "model = SVC(random_state=42)\n",
    "model.fit(X_train, y_train)\n",
    "y_pred = model.predict(X_test)\n",
    "acc = accuracy_score(y_test, y_pred)\n",
    "print(f'SVM  -  {acc}')"
   ]
  },
  {
   "cell_type": "markdown",
   "id": "8845b40e-79be-439e-a7f8-6ced0822d786",
   "metadata": {},
   "source": [
    "<pre>\n",
    "LogisticRegression\n",
    "    로지스틱 회귀\n",
    "    ?\n",
    "</pre>"
   ]
  },
  {
   "cell_type": "code",
   "execution_count": 92,
   "id": "1eeac6d4-e879-4f62-b2d3-b5749a962040",
   "metadata": {},
   "outputs": [
    {
     "name": "stdout",
     "output_type": "stream",
     "text": [
      "LogisticRegression  -  0.6628131021194605\n"
     ]
    }
   ],
   "source": [
    "from sklearn.linear_model import LogisticRegression\n",
    "\n",
    "model = LogisticRegression(max_iter=200, random_state=42)\n",
    "model.fit(X_train, y_train)\n",
    "y_pred = model.predict(X_test)\n",
    "acc = accuracy_score(y_test, y_pred)\n",
    "print(f'LogisticRegression  -  {acc}')"
   ]
  },
  {
   "cell_type": "markdown",
   "id": "a0508d55-1289-4261-898c-488dad1b8118",
   "metadata": {},
   "source": [
    "<pre>\n",
    "K-Nearest Neighbors ( KNN )\n",
    "    K-최근접 이웃\n",
    "</pre>"
   ]
  },
  {
   "cell_type": "code",
   "execution_count": 49,
   "id": "3a0be9d1-ad35-4470-924f-cb46d95f1736",
   "metadata": {},
   "outputs": [
    {
     "name": "stdout",
     "output_type": "stream",
     "text": [
      "KNN  -  0.9402697495183044\n"
     ]
    }
   ],
   "source": [
    "from sklearn.neighbors import KNeighborsClassifier\n",
    "\n",
    "model = KNeighborsClassifier(n_neighbors=3)\n",
    "model.fit(X_train, y_train)\n",
    "y_pred = model.predict(X_test)\n",
    "acc = accuracy_score(y_test, y_pred)\n",
    "print(f'KNN  -  {acc}')"
   ]
  },
  {
   "cell_type": "markdown",
   "id": "479f6c83-6e80-47a0-bbd4-6ad7ead664e8",
   "metadata": {},
   "source": [
    "---\n",
    "***Regression - 회귀***\n",
    "<pre>\n",
    "회귀는 mean_squared_error(y_true, y_pred, ...)로 성능을 평가한다.\n",
    "    ((Σ(y_test - y_pred)) ^ 2) / n\n",
    "        값이 낮을수록 성능이 좋음\n",
    "</pre>"
   ]
  },
  {
   "cell_type": "code",
   "execution_count": 71,
   "id": "28af0b37-d03b-4b79-8aaf-39bc68637e55",
   "metadata": {},
   "outputs": [],
   "source": [
    "from sklearn.metrics import mean_squared_error"
   ]
  },
  {
   "cell_type": "markdown",
   "id": "4fb2b402-584a-445a-acf3-f8d36d4b3604",
   "metadata": {},
   "source": [
    "<pre>\n",
    "LinearRegression\n",
    "    선형회귀\n",
    "</pre>"
   ]
  },
  {
   "cell_type": "code",
   "execution_count": 67,
   "id": "70910658-a15c-49b6-aa77-fdc5010e3762",
   "metadata": {},
   "outputs": [
    {
     "name": "stdout",
     "output_type": "stream",
     "text": [
      "LinearRegression  -  0.7338410712893653\n"
     ]
    }
   ],
   "source": [
    "from sklearn.linear_model import LinearRegression\n",
    "\n",
    "model = LinearRegression()\n",
    "model.fit(X_train, y_train)\n",
    "y_pred = model.predict(X_test)\n",
    "mean = mean_squared_error(y_test, y_pred)\n",
    "print(f'LinearRegression  -  {mean}')"
   ]
  },
  {
   "cell_type": "markdown",
   "id": "6f8cfe61-bb03-4e0d-9af9-97551b42945d",
   "metadata": {},
   "source": [
    "<pre>\n",
    "DecisionTreeRegressor\n",
    "    의사결절트리 회귀\n",
    "</pre>"
   ]
  },
  {
   "cell_type": "code",
   "execution_count": 75,
   "id": "de130aa4-94ec-458c-bf6b-4e554b19412e",
   "metadata": {},
   "outputs": [
    {
     "name": "stdout",
     "output_type": "stream",
     "text": [
      "DecisionTreeRegression  -  0.09441233140655106\n"
     ]
    }
   ],
   "source": [
    "from sklearn.tree import DecisionTreeRegressor\n",
    "\n",
    "model = DecisionTreeRegressor()\n",
    "model.fit(X_train, y_train)\n",
    "y_pred = model.predict(X_test)\n",
    "mean = mean_squared_error(y_test, y_pred)\n",
    "print(f'DecisionTreeRegression  -  {mean}')"
   ]
  },
  {
   "cell_type": "markdown",
   "id": "ba441c76-4704-4c27-9b3e-cc7838278fc2",
   "metadata": {},
   "source": [
    "<pre>\n",
    "RandomForestRegressor\n",
    "    랜덤포레스트 회귀\n",
    "</pre>"
   ]
  },
  {
   "cell_type": "code",
   "execution_count": 82,
   "id": "e244fc1a-5652-4adc-aedf-ac2c7830c608",
   "metadata": {},
   "outputs": [
    {
     "name": "stdout",
     "output_type": "stream",
     "text": [
      "RandomForestRegressor  -  0.0902412331406551\n"
     ]
    }
   ],
   "source": [
    "from sklearn.ensemble  import RandomForestRegressor\n",
    "\n",
    "model = RandomForestRegressor()\n",
    "model.fit(X_train, y_train)\n",
    "y_pred = model.predict(X_test)\n",
    "mean = mean_squared_error(y_test, y_pred)\n",
    "print(f'RandomForestRegressor  -  {mean}')"
   ]
  }
 ],
 "metadata": {
  "kernelspec": {
   "display_name": "Python [conda env:base] *",
   "language": "python",
   "name": "conda-base-py"
  },
  "language_info": {
   "codemirror_mode": {
    "name": "ipython",
    "version": 3
   },
   "file_extension": ".py",
   "mimetype": "text/x-python",
   "name": "python",
   "nbconvert_exporter": "python",
   "pygments_lexer": "ipython3",
   "version": "3.12.7"
  }
 },
 "nbformat": 4,
 "nbformat_minor": 5
}
