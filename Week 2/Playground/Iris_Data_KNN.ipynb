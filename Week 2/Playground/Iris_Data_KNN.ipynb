{
 "cells": [
  {
   "cell_type": "code",
   "execution_count": 3,
   "id": "ba5383b1-1694-48a5-aec7-55070adbe717",
   "metadata": {},
   "outputs": [],
   "source": [
    "from sklearn.model_selection import train_test_split\n",
    "from sklearn.tree import DecisionTreeClassifier\n",
    "from sklearn.ensemble import RandomForestClassifier\n",
    "from sklearn.svm import SVC\n",
    "from sklearn.linear_model import LogisticRegression\n",
    "from sklearn.metrics import accuracy_score"
   ]
  },
  {
   "cell_type": "code",
   "execution_count": 13,
   "id": "ea6ed91b-e722-4290-83fb-509813bfa8b0",
   "metadata": {},
   "outputs": [
    {
     "name": "stdout",
     "output_type": "stream",
     "text": [
      "     SepalLength  SepalWidth  PetalLength  PetalWidth\n",
      "0            5.1         3.5          1.4         0.2\n",
      "1            4.9         3.0          1.4         0.2\n",
      "2            4.7         3.2          1.3         0.2\n",
      "3            4.6         3.1          1.5         0.2\n",
      "4            5.0         3.6          1.4         0.2\n",
      "..           ...         ...          ...         ...\n",
      "145          6.7         3.0          5.2         2.3\n",
      "146          6.3         2.5          5.0         1.9\n",
      "147          6.5         3.0          5.2         2.0\n",
      "148          6.2         3.4          5.4         2.3\n",
      "149          5.9         3.0          5.1         1.8\n",
      "\n",
      "[150 rows x 4 columns]\n",
      "0         Iris-setosa\n",
      "1         Iris-setosa\n",
      "2         Iris-setosa\n",
      "3         Iris-setosa\n",
      "4         Iris-setosa\n",
      "            ...      \n",
      "145    Iris-virginica\n",
      "146    Iris-virginica\n",
      "147    Iris-virginica\n",
      "148    Iris-virginica\n",
      "149    Iris-virginica\n",
      "Name: Name, Length: 150, dtype: object\n"
     ]
    }
   ],
   "source": [
    "random = 11\n",
    "\n",
    "file_path = \"C:/Users/admin/Desktop/Homework/AI/AI_Class/Data/iris.csv\"\n",
    "data = pd.read_csv(file_path)\n",
    "X = data.drop('Name', axis=1) #Name 특성을 버린 나머지 특성을 학습시켜 \n",
    "y = data['Name']              #Name을 결과로 얻을 수 있게 설정\n",
    "\n",
    "print(X)\n",
    "print(y)"
   ]
  },
  {
   "cell_type": "code",
   "execution_count": 5,
   "id": "e46b5199-6aa0-4034-9201-f5ef633de952",
   "metadata": {},
   "outputs": [],
   "source": [
    "X_train, X_test, y_train, y_test = train_test_split(X, y, test_size=0.3, random_state=random)"
   ]
  },
  {
   "cell_type": "markdown",
   "id": "56980224-7844-4b12-9203-272a4c4c1b68",
   "metadata": {},
   "source": [
    "train_test_split(특성 데이터, 정답 데이터, 0 ~ 1 학습 데이터와 테스트 데이터 비율, 무작위성 제어 정수값)"
   ]
  },
  {
   "cell_type": "code",
   "execution_count": 9,
   "id": "36148f1a-4a3b-4edb-911e-3358e7bc07f1",
   "metadata": {},
   "outputs": [
    {
     "name": "stdout",
     "output_type": "stream",
     "text": [
      "Accuracy before scaling: 0.9555555555555556\n",
      "Accuracy after scaling: 0.9111111111111111\n"
     ]
    }
   ],
   "source": [
    "from sklearn.neighbors import KNeighborsClassifier\n",
    "from sklearn.preprocessing import StandardScaler\n",
    "\n",
    "knn_before = KNeighborsClassifier(n_neighbors=3)\n",
    "knn_before.fit(X_train, y_train)\n",
    "y_pred_before = knn_before.predict(X_test)\n",
    "accuracy_before = accuracy_score(y_test, y_pred_before)\n",
    "print(\"Accuracy before scaling:\", accuracy_before)\n",
    "\n",
    "# 스케일링 적용\n",
    "scaler = StandardScaler()\n",
    "X_train_scaled = scaler.fit_transform(X_train)\n",
    "X_test_scaled = scaler.transform(X_test) #테스트 데이터는 fit을 하지않고 transform만 한다.\n",
    "\n",
    "# 스케일링 적용 후 모델 학습 및 평가\n",
    "knn_after = KNeighborsClassifier(n_neighbors=3)\n",
    "knn_after.fit(X_train_scaled, y_train)\n",
    "y_pred_after = knn_after.predict(X_test_scaled)\n",
    "accuracy_after = accuracy_score(y_test, y_pred_after)\n",
    "print(\"Accuracy after scaling:\", accuracy_after)\n",
    "\n",
    "\n",
    "# # KNN\n",
    "# knn = KNeighborsClassifier(n_neighbors=3)\n",
    "# knn.fit(X_train, y_train)\n",
    "\n",
    "# # 예측\n",
    "# y_pred = knn.predict(X_test)\n",
    "\n",
    "# # 정확도 평가\n",
    "# accuracy = accuracy_score(y_test, y_pred)\n",
    "# print(\"Accuracy:\", accuracy)"
   ]
  },
  {
   "cell_type": "code",
   "execution_count": null,
   "id": "95f9b9bd-e6e1-4e82-8c55-24e87fc4c121",
   "metadata": {},
   "outputs": [],
   "source": []
  }
 ],
 "metadata": {
  "kernelspec": {
   "display_name": "Python [conda env:base] *",
   "language": "python",
   "name": "conda-base-py"
  },
  "language_info": {
   "codemirror_mode": {
    "name": "ipython",
    "version": 3
   },
   "file_extension": ".py",
   "mimetype": "text/x-python",
   "name": "python",
   "nbconvert_exporter": "python",
   "pygments_lexer": "ipython3",
   "version": "3.12.7"
  }
 },
 "nbformat": 4,
 "nbformat_minor": 5
}
